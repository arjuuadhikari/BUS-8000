{
 "cells": [
  {
   "cell_type": "markdown",
   "id": "e483bae6-0168-4eed-b1f0-ef1fa65e8240",
   "metadata": {},
   "source": [
    "<h2><u><b>This Study Consists of 6 Sections:</b></u></h2>\n",
    "\n",
    "- Section 1: Clean The Dataset\n",
    "  \n",
    "- Section 2: Exploratory Insights\n",
    "  \n",
    "- Section 3: Test Sub Sample Differences\n",
    "  \n",
    "- Section 4: Inference\n",
    "  \n",
    "- Section 5: Prediction Model\n",
    "  \n",
    "- Section 6: Higher Likelihood of Losing Customers"
   ]
  },
  {
   "cell_type": "code",
   "execution_count": 392,
   "id": "e77cc5e7-179e-4ed9-86fa-5ced1f3a4b21",
   "metadata": {},
   "outputs": [],
   "source": [
    "# Importing Necessary libraries and Packages\n",
    "# For data manipulation and analysis\n",
    "import pandas as pd\n",
    "\n",
    "# For data visualization\n",
    "import matplotlib.pyplot as plt\n",
    "\n",
    "# For standardizing data to detect outliers\n",
    "from scipy.stats import zscore\n",
    "\n",
    "# For numerical operations\n",
    "import numpy as np\n",
    "\n",
    "# For conducting independent t-tests\n",
    "from scipy.stats import ttest_ind\n",
    "\n",
    "# For statistical modeling and analysis\n",
    "import statsmodels.api as sm\n",
    "\n",
    "# For multicollinearity checks\n",
    "from statsmodels.stats.outliers_influence import variance_inflation_factor\n",
    "\n",
    "# For standardizing features before modeling\n",
    "from sklearn.preprocessing import StandardScaler\n",
    "\n",
    "# For ridge regression (regularized linear regression)\n",
    "from sklearn.linear_model import Ridge\n",
    "\n",
    " # For dimensionality reduction\n",
    "from sklearn.decomposition import PCA\n",
    "\n",
    "# For ensemble regression models\n",
    "from sklearn.ensemble import RandomForestRegressor, GradientBoostingRegressor\n",
    "\n",
    "# For splitting data into training and testing sets\n",
    "from sklearn.model_selection import train_test_split\n",
    "\n",
    "# For regularized regression models\n",
    "from sklearn.linear_model import Ridge, Lasso\n",
    "\n",
    "# For evaluating regression model performance\n",
    "from sklearn.metrics import mean_squared_error, r2_score\n",
    "\n",
    " # For binary/multiclass classification\n",
    "from sklearn.linear_model import LogisticRegression\n",
    "\n",
    "# For classification evaluation metrics\n",
    "from sklearn.metrics import accuracy_score, precision_score, recall_score, roc_auc_score\n",
    "\n",
    "# For ensemble classification model\n",
    "from sklearn.ensemble import RandomForestClassifier\n",
    "\n",
    "# For a summary report of classification metrics\n",
    "from sklearn.metrics import classification_report"
   ]
  },
  {
   "cell_type": "code",
   "execution_count": 394,
   "id": "20ccc1d1-b98e-47f0-a39a-a130d18b9713",
   "metadata": {},
   "outputs": [],
   "source": [
    "#Loading Dataset\n",
    "data = pd.read_csv('combined.csv', encoding='ISO-8859-1', low_memory=False)"
   ]
  },
  {
   "cell_type": "markdown",
   "id": "40a5fbbf-006b-4fa4-9969-8eb1021e20e8",
   "metadata": {},
   "source": [
    "<h3>Section 1: <u>Clean The Dataset</u></h3>"
   ]
  },
  {
   "cell_type": "code",
   "execution_count": 396,
   "id": "a0f09689-288e-4811-b22e-bbd80c402d16",
   "metadata": {},
   "outputs": [
    {
     "data": {
      "text/html": [
       "<div>\n",
       "<style scoped>\n",
       "    .dataframe tbody tr th:only-of-type {\n",
       "        vertical-align: middle;\n",
       "    }\n",
       "\n",
       "    .dataframe tbody tr th {\n",
       "        vertical-align: top;\n",
       "    }\n",
       "\n",
       "    .dataframe thead th {\n",
       "        text-align: right;\n",
       "    }\n",
       "</style>\n",
       "<table border=\"1\" class=\"dataframe\">\n",
       "  <thead>\n",
       "    <tr style=\"text-align: right;\">\n",
       "      <th></th>\n",
       "      <th>accounting_date</th>\n",
       "      <th>fiscal_year</th>\n",
       "      <th>fiscal_month</th>\n",
       "      <th>calendar_year</th>\n",
       "      <th>calendar_month</th>\n",
       "      <th>calendar_day</th>\n",
       "      <th>company_code</th>\n",
       "      <th>customer_code</th>\n",
       "      <th>customer_district_code</th>\n",
       "      <th>item_code</th>\n",
       "      <th>...</th>\n",
       "      <th>value_quantity</th>\n",
       "      <th>value_price_adjustment</th>\n",
       "      <th>currency</th>\n",
       "      <th>item_source_class</th>\n",
       "      <th>invoice_number</th>\n",
       "      <th>line_number</th>\n",
       "      <th>invoice_date</th>\n",
       "      <th>customer_order_number</th>\n",
       "      <th>order_date</th>\n",
       "      <th>dss_update_time</th>\n",
       "    </tr>\n",
       "  </thead>\n",
       "  <tbody>\n",
       "    <tr>\n",
       "      <th>0</th>\n",
       "      <td>20120509</td>\n",
       "      <td>2012</td>\n",
       "      <td>11</td>\n",
       "      <td>2012</td>\n",
       "      <td>5</td>\n",
       "      <td>9</td>\n",
       "      <td>101</td>\n",
       "      <td>411800601</td>\n",
       "      <td>410</td>\n",
       "      <td>GENIE8WWWBC</td>\n",
       "      <td>...</td>\n",
       "      <td>84</td>\n",
       "      <td>0</td>\n",
       "      <td>AUD</td>\n",
       "      <td>NaN</td>\n",
       "      <td>2217887</td>\n",
       "      <td>1</td>\n",
       "      <td>20120509</td>\n",
       "      <td>2865354</td>\n",
       "      <td>20120509</td>\n",
       "      <td>49:58.7</td>\n",
       "    </tr>\n",
       "    <tr>\n",
       "      <th>1</th>\n",
       "      <td>20120216</td>\n",
       "      <td>2012</td>\n",
       "      <td>8</td>\n",
       "      <td>2012</td>\n",
       "      <td>2</td>\n",
       "      <td>16</td>\n",
       "      <td>101</td>\n",
       "      <td>361000403</td>\n",
       "      <td>300</td>\n",
       "      <td>GENIE8WWWBC</td>\n",
       "      <td>...</td>\n",
       "      <td>12</td>\n",
       "      <td>0</td>\n",
       "      <td>AUD</td>\n",
       "      <td>NaN</td>\n",
       "      <td>2185745</td>\n",
       "      <td>1</td>\n",
       "      <td>20120216</td>\n",
       "      <td>2833515</td>\n",
       "      <td>20120216</td>\n",
       "      <td>49:58.7</td>\n",
       "    </tr>\n",
       "    <tr>\n",
       "      <th>2</th>\n",
       "      <td>20120509</td>\n",
       "      <td>2012</td>\n",
       "      <td>11</td>\n",
       "      <td>2012</td>\n",
       "      <td>5</td>\n",
       "      <td>9</td>\n",
       "      <td>101</td>\n",
       "      <td>361000403</td>\n",
       "      <td>300</td>\n",
       "      <td>GENIE8WWWBC</td>\n",
       "      <td>...</td>\n",
       "      <td>12</td>\n",
       "      <td>0</td>\n",
       "      <td>AUD</td>\n",
       "      <td>NaN</td>\n",
       "      <td>2217807</td>\n",
       "      <td>1</td>\n",
       "      <td>20120509</td>\n",
       "      <td>2864857</td>\n",
       "      <td>20120508</td>\n",
       "      <td>49:58.7</td>\n",
       "    </tr>\n",
       "    <tr>\n",
       "      <th>3</th>\n",
       "      <td>20120518</td>\n",
       "      <td>2012</td>\n",
       "      <td>11</td>\n",
       "      <td>2012</td>\n",
       "      <td>5</td>\n",
       "      <td>18</td>\n",
       "      <td>101</td>\n",
       "      <td>565540415</td>\n",
       "      <td>500</td>\n",
       "      <td>GENIE8WWWBC</td>\n",
       "      <td>...</td>\n",
       "      <td>6</td>\n",
       "      <td>0</td>\n",
       "      <td>AUD</td>\n",
       "      <td>NaN</td>\n",
       "      <td>2222758</td>\n",
       "      <td>1</td>\n",
       "      <td>20120518</td>\n",
       "      <td>2869759</td>\n",
       "      <td>20120518</td>\n",
       "      <td>49:58.7</td>\n",
       "    </tr>\n",
       "    <tr>\n",
       "      <th>4</th>\n",
       "      <td>20120109</td>\n",
       "      <td>2012</td>\n",
       "      <td>7</td>\n",
       "      <td>2012</td>\n",
       "      <td>1</td>\n",
       "      <td>9</td>\n",
       "      <td>101</td>\n",
       "      <td>565540415</td>\n",
       "      <td>500</td>\n",
       "      <td>GENIE8WWWBC</td>\n",
       "      <td>...</td>\n",
       "      <td>6</td>\n",
       "      <td>0</td>\n",
       "      <td>AUD</td>\n",
       "      <td>NaN</td>\n",
       "      <td>2170374</td>\n",
       "      <td>1</td>\n",
       "      <td>20120109</td>\n",
       "      <td>2819189</td>\n",
       "      <td>20120109</td>\n",
       "      <td>49:58.7</td>\n",
       "    </tr>\n",
       "  </tbody>\n",
       "</table>\n",
       "<p>5 rows × 41 columns</p>\n",
       "</div>"
      ],
      "text/plain": [
       "  accounting_date fiscal_year fiscal_month calendar_year calendar_month  \\\n",
       "0        20120509        2012           11          2012              5   \n",
       "1        20120216        2012            8          2012              2   \n",
       "2        20120509        2012           11          2012              5   \n",
       "3        20120518        2012           11          2012              5   \n",
       "4        20120109        2012            7          2012              1   \n",
       "\n",
       "  calendar_day company_code customer_code customer_district_code  \\\n",
       "0            9          101     411800601                    410   \n",
       "1           16          101     361000403                    300   \n",
       "2            9          101     361000403                    300   \n",
       "3           18          101     565540415                    500   \n",
       "4            9          101     565540415                    500   \n",
       "\n",
       "                        item_code  ... value_quantity value_price_adjustment  \\\n",
       "0  GENIE8WWWBC                     ...             84                      0   \n",
       "1  GENIE8WWWBC                     ...             12                      0   \n",
       "2  GENIE8WWWBC                     ...             12                      0   \n",
       "3  GENIE8WWWBC                     ...              6                      0   \n",
       "4  GENIE8WWWBC                     ...              6                      0   \n",
       "\n",
       "  currency item_source_class invoice_number line_number invoice_date  \\\n",
       "0      AUD               NaN        2217887           1     20120509   \n",
       "1      AUD               NaN        2185745           1     20120216   \n",
       "2      AUD               NaN        2217807           1     20120509   \n",
       "3      AUD               NaN        2222758           1     20120518   \n",
       "4      AUD               NaN        2170374           1     20120109   \n",
       "\n",
       "  customer_order_number order_date dss_update_time  \n",
       "0               2865354   20120509         49:58.7  \n",
       "1               2833515   20120216         49:58.7  \n",
       "2               2864857   20120508         49:58.7  \n",
       "3               2869759   20120518         49:58.7  \n",
       "4               2819189   20120109         49:58.7  \n",
       "\n",
       "[5 rows x 41 columns]"
      ]
     },
     "execution_count": 396,
     "metadata": {},
     "output_type": "execute_result"
    }
   ],
   "source": [
    "data.head()"
   ]
  },
  {
   "cell_type": "code",
   "execution_count": 397,
   "id": "5bd52d5e-da04-4b07-bdd4-34d715373659",
   "metadata": {},
   "outputs": [
    {
     "data": {
      "text/html": [
       "<div>\n",
       "<style scoped>\n",
       "    .dataframe tbody tr th:only-of-type {\n",
       "        vertical-align: middle;\n",
       "    }\n",
       "\n",
       "    .dataframe tbody tr th {\n",
       "        vertical-align: top;\n",
       "    }\n",
       "\n",
       "    .dataframe thead th {\n",
       "        text-align: right;\n",
       "    }\n",
       "</style>\n",
       "<table border=\"1\" class=\"dataframe\">\n",
       "  <thead>\n",
       "    <tr style=\"text-align: right;\">\n",
       "      <th></th>\n",
       "      <th>accounting_date</th>\n",
       "      <th>fiscal_year</th>\n",
       "      <th>fiscal_month</th>\n",
       "      <th>calendar_year</th>\n",
       "      <th>calendar_month</th>\n",
       "      <th>calendar_day</th>\n",
       "      <th>company_code</th>\n",
       "      <th>customer_code</th>\n",
       "      <th>customer_district_code</th>\n",
       "      <th>item_code</th>\n",
       "      <th>...</th>\n",
       "      <th>value_quantity</th>\n",
       "      <th>value_price_adjustment</th>\n",
       "      <th>currency</th>\n",
       "      <th>item_source_class</th>\n",
       "      <th>invoice_number</th>\n",
       "      <th>line_number</th>\n",
       "      <th>invoice_date</th>\n",
       "      <th>customer_order_number</th>\n",
       "      <th>order_date</th>\n",
       "      <th>dss_update_time</th>\n",
       "    </tr>\n",
       "  </thead>\n",
       "  <tbody>\n",
       "    <tr>\n",
       "      <th>1988378</th>\n",
       "      <td>20131106</td>\n",
       "      <td>2014</td>\n",
       "      <td>5</td>\n",
       "      <td>2013</td>\n",
       "      <td>11</td>\n",
       "      <td>6</td>\n",
       "      <td>101</td>\n",
       "      <td>299480704</td>\n",
       "      <td>200</td>\n",
       "      <td>TWG114/2005</td>\n",
       "      <td>...</td>\n",
       "      <td>8</td>\n",
       "      <td>0</td>\n",
       "      <td>AUD</td>\n",
       "      <td>NaN</td>\n",
       "      <td>2423898</td>\n",
       "      <td>1</td>\n",
       "      <td>20131106</td>\n",
       "      <td>3079784</td>\n",
       "      <td>20131106</td>\n",
       "      <td>49:58.7</td>\n",
       "    </tr>\n",
       "    <tr>\n",
       "      <th>1988379</th>\n",
       "      <td>20130717</td>\n",
       "      <td>2014</td>\n",
       "      <td>1</td>\n",
       "      <td>2013</td>\n",
       "      <td>7</td>\n",
       "      <td>17</td>\n",
       "      <td>101</td>\n",
       "      <td>500900630</td>\n",
       "      <td>500</td>\n",
       "      <td>SCRN236E2F4</td>\n",
       "      <td>...</td>\n",
       "      <td>5</td>\n",
       "      <td>0</td>\n",
       "      <td>AUD</td>\n",
       "      <td>NaN</td>\n",
       "      <td>2383667</td>\n",
       "      <td>1</td>\n",
       "      <td>20130717</td>\n",
       "      <td>3024473</td>\n",
       "      <td>20130627</td>\n",
       "      <td>49:58.7</td>\n",
       "    </tr>\n",
       "    <tr>\n",
       "      <th>1988380</th>\n",
       "      <td>20131021</td>\n",
       "      <td>2014</td>\n",
       "      <td>4</td>\n",
       "      <td>2013</td>\n",
       "      <td>10</td>\n",
       "      <td>21</td>\n",
       "      <td>205</td>\n",
       "      <td>552800304</td>\n",
       "      <td>500</td>\n",
       "      <td>DOT92STW</td>\n",
       "      <td>...</td>\n",
       "      <td>31</td>\n",
       "      <td>0</td>\n",
       "      <td>AUD</td>\n",
       "      <td>NaN</td>\n",
       "      <td>2419020</td>\n",
       "      <td>1</td>\n",
       "      <td>20131021</td>\n",
       "      <td>3070986</td>\n",
       "      <td>20131021</td>\n",
       "      <td>49:58.7</td>\n",
       "    </tr>\n",
       "    <tr>\n",
       "      <th>1988381</th>\n",
       "      <td>20131101</td>\n",
       "      <td>2014</td>\n",
       "      <td>5</td>\n",
       "      <td>2013</td>\n",
       "      <td>11</td>\n",
       "      <td>1</td>\n",
       "      <td>101</td>\n",
       "      <td>565540407</td>\n",
       "      <td>500</td>\n",
       "      <td>TWG114/2005</td>\n",
       "      <td>...</td>\n",
       "      <td>1</td>\n",
       "      <td>0</td>\n",
       "      <td>AUD</td>\n",
       "      <td>NaN</td>\n",
       "      <td>2422799</td>\n",
       "      <td>1</td>\n",
       "      <td>20131101</td>\n",
       "      <td>3073478</td>\n",
       "      <td>20131028</td>\n",
       "      <td>49:58.7</td>\n",
       "    </tr>\n",
       "    <tr>\n",
       "      <th>1988382</th>\n",
       "      <td>20130925</td>\n",
       "      <td>2014</td>\n",
       "      <td>3</td>\n",
       "      <td>2013</td>\n",
       "      <td>9</td>\n",
       "      <td>25</td>\n",
       "      <td>101</td>\n",
       "      <td>565540407</td>\n",
       "      <td>500</td>\n",
       "      <td>TWG114/2005</td>\n",
       "      <td>...</td>\n",
       "      <td>1</td>\n",
       "      <td>0</td>\n",
       "      <td>AUD</td>\n",
       "      <td>NaN</td>\n",
       "      <td>2411003</td>\n",
       "      <td>1</td>\n",
       "      <td>20130925</td>\n",
       "      <td>3060996</td>\n",
       "      <td>20130925</td>\n",
       "      <td>49:58.7</td>\n",
       "    </tr>\n",
       "  </tbody>\n",
       "</table>\n",
       "<p>5 rows × 41 columns</p>\n",
       "</div>"
      ],
      "text/plain": [
       "        accounting_date fiscal_year fiscal_month calendar_year calendar_month  \\\n",
       "1988378        20131106        2014            5          2013             11   \n",
       "1988379        20130717        2014            1          2013              7   \n",
       "1988380        20131021        2014            4          2013             10   \n",
       "1988381        20131101        2014            5          2013             11   \n",
       "1988382        20130925        2014            3          2013              9   \n",
       "\n",
       "        calendar_day company_code customer_code customer_district_code  \\\n",
       "1988378            6          101     299480704                    200   \n",
       "1988379           17          101     500900630                    500   \n",
       "1988380           21          205     552800304                    500   \n",
       "1988381            1          101     565540407                    500   \n",
       "1988382           25          101     565540407                    500   \n",
       "\n",
       "                              item_code  ... value_quantity  \\\n",
       "1988378  TWG114/2005                     ...              8   \n",
       "1988379  SCRN236E2F4                     ...              5   \n",
       "1988380  DOT92STW                        ...             31   \n",
       "1988381  TWG114/2005                     ...              1   \n",
       "1988382  TWG114/2005                     ...              1   \n",
       "\n",
       "        value_price_adjustment currency item_source_class invoice_number  \\\n",
       "1988378                      0      AUD               NaN        2423898   \n",
       "1988379                      0      AUD               NaN        2383667   \n",
       "1988380                      0      AUD               NaN        2419020   \n",
       "1988381                      0      AUD               NaN        2422799   \n",
       "1988382                      0      AUD               NaN        2411003   \n",
       "\n",
       "        line_number invoice_date customer_order_number order_date  \\\n",
       "1988378           1     20131106               3079784   20131106   \n",
       "1988379           1     20130717               3024473   20130627   \n",
       "1988380           1     20131021               3070986   20131021   \n",
       "1988381           1     20131101               3073478   20131028   \n",
       "1988382           1     20130925               3060996   20130925   \n",
       "\n",
       "        dss_update_time  \n",
       "1988378         49:58.7  \n",
       "1988379         49:58.7  \n",
       "1988380         49:58.7  \n",
       "1988381         49:58.7  \n",
       "1988382         49:58.7  \n",
       "\n",
       "[5 rows x 41 columns]"
      ]
     },
     "execution_count": 397,
     "metadata": {},
     "output_type": "execute_result"
    }
   ],
   "source": [
    "data.tail()"
   ]
  },
  {
   "cell_type": "code",
   "execution_count": 398,
   "id": "efe9a2dd-fb0a-4b7e-86ce-5700239cae28",
   "metadata": {},
   "outputs": [
    {
     "name": "stdout",
     "output_type": "stream",
     "text": [
      "<class 'pandas.core.frame.DataFrame'>\n",
      "RangeIndex: 1988383 entries, 0 to 1988382\n",
      "Data columns (total 41 columns):\n",
      " #   Column                    Dtype \n",
      "---  ------                    ----- \n",
      " 0   accounting_date           object\n",
      " 1   fiscal_year               object\n",
      " 2   fiscal_month              object\n",
      " 3   calendar_year             object\n",
      " 4   calendar_month            object\n",
      " 5   calendar_day              object\n",
      " 6   company_code              object\n",
      " 7   customer_code             object\n",
      " 8   customer_district_code    object\n",
      " 9   item_code                 object\n",
      " 10  business_area_code        object\n",
      " 11  item_group_code           object\n",
      " 12  item_class_code           object\n",
      " 13  item_type                 object\n",
      " 14  bonus_group_code          object\n",
      " 15  environment_group_code    object\n",
      " 16  technology_group_code     object\n",
      " 17  commission_group_code     object\n",
      " 18  reporting_classification  object\n",
      " 19  light_source              object\n",
      " 20  warehouse_code            object\n",
      " 21  abc_class_code            object\n",
      " 22  abc_class_volume          object\n",
      " 23  business_chain_l1_code    object\n",
      " 24  business_chain_l1_name    object\n",
      " 25  contact_method_code       object\n",
      " 26  salesperson_code          object\n",
      " 27  order_type_code           object\n",
      " 28  market_segment            object\n",
      " 29  value_sales               object\n",
      " 30  value_cost                object\n",
      " 31  value_quantity            object\n",
      " 32  value_price_adjustment    object\n",
      " 33  currency                  object\n",
      " 34  item_source_class         object\n",
      " 35  invoice_number            object\n",
      " 36  line_number               object\n",
      " 37  invoice_date              object\n",
      " 38  customer_order_number     object\n",
      " 39  order_date                object\n",
      " 40  dss_update_time           object\n",
      "dtypes: object(41)\n",
      "memory usage: 622.0+ MB\n"
     ]
    }
   ],
   "source": [
    "data.info()"
   ]
  },
  {
   "cell_type": "code",
   "execution_count": 399,
   "id": "29d5a78f-43b0-4ab0-9de1-88a8d36596d8",
   "metadata": {},
   "outputs": [
    {
     "name": "stdout",
     "output_type": "stream",
     "text": [
      "Dataset dimensions: (1988383, 41)\n"
     ]
    }
   ],
   "source": [
    "#The number of rows and columns\n",
    "print(\"Dataset dimensions:\", data.shape)"
   ]
  },
  {
   "cell_type": "code",
   "execution_count": 400,
   "id": "d1302cfa-28dd-44af-8b31-7cc3704ebac2",
   "metadata": {},
   "outputs": [
    {
     "data": {
      "text/html": [
       "<div>\n",
       "<style scoped>\n",
       "    .dataframe tbody tr th:only-of-type {\n",
       "        vertical-align: middle;\n",
       "    }\n",
       "\n",
       "    .dataframe tbody tr th {\n",
       "        vertical-align: top;\n",
       "    }\n",
       "\n",
       "    .dataframe thead th {\n",
       "        text-align: right;\n",
       "    }\n",
       "</style>\n",
       "<table border=\"1\" class=\"dataframe\">\n",
       "  <thead>\n",
       "    <tr style=\"text-align: right;\">\n",
       "      <th></th>\n",
       "      <th>count</th>\n",
       "      <th>unique</th>\n",
       "      <th>top</th>\n",
       "      <th>freq</th>\n",
       "    </tr>\n",
       "  </thead>\n",
       "  <tbody>\n",
       "    <tr>\n",
       "      <th>accounting_date</th>\n",
       "      <td>1988383</td>\n",
       "      <td>544</td>\n",
       "      <td>20130430</td>\n",
       "      <td>8132</td>\n",
       "    </tr>\n",
       "    <tr>\n",
       "      <th>fiscal_year</th>\n",
       "      <td>1988383</td>\n",
       "      <td>4</td>\n",
       "      <td>2013</td>\n",
       "      <td>978202</td>\n",
       "    </tr>\n",
       "    <tr>\n",
       "      <th>fiscal_month</th>\n",
       "      <td>1988383</td>\n",
       "      <td>13</td>\n",
       "      <td>11</td>\n",
       "      <td>213313</td>\n",
       "    </tr>\n",
       "    <tr>\n",
       "      <th>calendar_year</th>\n",
       "      <td>1988383</td>\n",
       "      <td>3</td>\n",
       "      <td>2012</td>\n",
       "      <td>1037205</td>\n",
       "    </tr>\n",
       "    <tr>\n",
       "      <th>calendar_month</th>\n",
       "      <td>1988383</td>\n",
       "      <td>13</td>\n",
       "      <td>5</td>\n",
       "      <td>213313</td>\n",
       "    </tr>\n",
       "    <tr>\n",
       "      <th>calendar_day</th>\n",
       "      <td>1988383</td>\n",
       "      <td>32</td>\n",
       "      <td>5</td>\n",
       "      <td>74578</td>\n",
       "    </tr>\n",
       "    <tr>\n",
       "      <th>company_code</th>\n",
       "      <td>1988383</td>\n",
       "      <td>11</td>\n",
       "      <td>205</td>\n",
       "      <td>1414918</td>\n",
       "    </tr>\n",
       "    <tr>\n",
       "      <th>customer_code</th>\n",
       "      <td>1988383</td>\n",
       "      <td>4488</td>\n",
       "      <td>234750001</td>\n",
       "      <td>61844</td>\n",
       "    </tr>\n",
       "    <tr>\n",
       "      <th>customer_district_code</th>\n",
       "      <td>1988383</td>\n",
       "      <td>18</td>\n",
       "      <td>300</td>\n",
       "      <td>429358</td>\n",
       "    </tr>\n",
       "    <tr>\n",
       "      <th>item_code</th>\n",
       "      <td>1988383</td>\n",
       "      <td>34473</td>\n",
       "      <td>25550</td>\n",
       "      <td>9265</td>\n",
       "    </tr>\n",
       "    <tr>\n",
       "      <th>business_area_code</th>\n",
       "      <td>1988383</td>\n",
       "      <td>29</td>\n",
       "      <td>LMP</td>\n",
       "      <td>808688</td>\n",
       "    </tr>\n",
       "    <tr>\n",
       "      <th>item_group_code</th>\n",
       "      <td>1988383</td>\n",
       "      <td>615</td>\n",
       "      <td>999</td>\n",
       "      <td>187247</td>\n",
       "    </tr>\n",
       "    <tr>\n",
       "      <th>item_class_code</th>\n",
       "      <td>1988383</td>\n",
       "      <td>205</td>\n",
       "      <td>LMP05</td>\n",
       "      <td>200724</td>\n",
       "    </tr>\n",
       "    <tr>\n",
       "      <th>item_type</th>\n",
       "      <td>1988383</td>\n",
       "      <td>10</td>\n",
       "      <td>7</td>\n",
       "      <td>952028</td>\n",
       "    </tr>\n",
       "    <tr>\n",
       "      <th>bonus_group_code</th>\n",
       "      <td>1988383</td>\n",
       "      <td>3</td>\n",
       "      <td>Trade</td>\n",
       "      <td>1652568</td>\n",
       "    </tr>\n",
       "    <tr>\n",
       "      <th>environment_group_code</th>\n",
       "      <td>1988383</td>\n",
       "      <td>10</td>\n",
       "      <td>C</td>\n",
       "      <td>764544</td>\n",
       "    </tr>\n",
       "    <tr>\n",
       "      <th>technology_group_code</th>\n",
       "      <td>1988383</td>\n",
       "      <td>104</td>\n",
       "      <td>78</td>\n",
       "      <td>275724</td>\n",
       "    </tr>\n",
       "    <tr>\n",
       "      <th>commission_group_code</th>\n",
       "      <td>1988383</td>\n",
       "      <td>4</td>\n",
       "      <td>NET_SALES</td>\n",
       "      <td>1893377</td>\n",
       "    </tr>\n",
       "    <tr>\n",
       "      <th>reporting_classification</th>\n",
       "      <td>1988383</td>\n",
       "      <td>3</td>\n",
       "      <td>Discontinuing</td>\n",
       "      <td>1421405</td>\n",
       "    </tr>\n",
       "    <tr>\n",
       "      <th>light_source</th>\n",
       "      <td>1988383</td>\n",
       "      <td>4</td>\n",
       "      <td>Traditional</td>\n",
       "      <td>1382270</td>\n",
       "    </tr>\n",
       "    <tr>\n",
       "      <th>warehouse_code</th>\n",
       "      <td>1988383</td>\n",
       "      <td>60</td>\n",
       "      <td>5N2</td>\n",
       "      <td>549104</td>\n",
       "    </tr>\n",
       "    <tr>\n",
       "      <th>abc_class_code</th>\n",
       "      <td>1988383</td>\n",
       "      <td>11</td>\n",
       "      <td>J</td>\n",
       "      <td>661307</td>\n",
       "    </tr>\n",
       "    <tr>\n",
       "      <th>abc_class_volume</th>\n",
       "      <td>1988383</td>\n",
       "      <td>11</td>\n",
       "      <td>J</td>\n",
       "      <td>1561088</td>\n",
       "    </tr>\n",
       "    <tr>\n",
       "      <th>business_chain_l1_code</th>\n",
       "      <td>1988383</td>\n",
       "      <td>49</td>\n",
       "      <td>MED</td>\n",
       "      <td>439624</td>\n",
       "    </tr>\n",
       "    <tr>\n",
       "      <th>business_chain_l1_name</th>\n",
       "      <td>1988383</td>\n",
       "      <td>44</td>\n",
       "      <td>Metro Electrical Distributors</td>\n",
       "      <td>439624</td>\n",
       "    </tr>\n",
       "    <tr>\n",
       "      <th>contact_method_code</th>\n",
       "      <td>1988383</td>\n",
       "      <td>1666</td>\n",
       "      <td>NA</td>\n",
       "      <td>1901893</td>\n",
       "    </tr>\n",
       "    <tr>\n",
       "      <th>salesperson_code</th>\n",
       "      <td>1988383</td>\n",
       "      <td>272</td>\n",
       "      <td>T300</td>\n",
       "      <td>97193</td>\n",
       "    </tr>\n",
       "    <tr>\n",
       "      <th>order_type_code</th>\n",
       "      <td>1988383</td>\n",
       "      <td>38</td>\n",
       "      <td>NOR</td>\n",
       "      <td>1612532</td>\n",
       "    </tr>\n",
       "    <tr>\n",
       "      <th>market_segment</th>\n",
       "      <td>1988383</td>\n",
       "      <td>2</td>\n",
       "      <td>Commercial &amp; Industrial</td>\n",
       "      <td>1988382</td>\n",
       "    </tr>\n",
       "    <tr>\n",
       "      <th>value_sales</th>\n",
       "      <td>1988383</td>\n",
       "      <td>125222</td>\n",
       "      <td>0</td>\n",
       "      <td>22300</td>\n",
       "    </tr>\n",
       "    <tr>\n",
       "      <th>value_cost</th>\n",
       "      <td>1988383</td>\n",
       "      <td>324348</td>\n",
       "      <td>0</td>\n",
       "      <td>50113</td>\n",
       "    </tr>\n",
       "    <tr>\n",
       "      <th>value_quantity</th>\n",
       "      <td>1988383</td>\n",
       "      <td>2292</td>\n",
       "      <td>10</td>\n",
       "      <td>264873</td>\n",
       "    </tr>\n",
       "    <tr>\n",
       "      <th>value_price_adjustment</th>\n",
       "      <td>1988383</td>\n",
       "      <td>3</td>\n",
       "      <td>0</td>\n",
       "      <td>1939831</td>\n",
       "    </tr>\n",
       "    <tr>\n",
       "      <th>currency</th>\n",
       "      <td>1988383</td>\n",
       "      <td>7</td>\n",
       "      <td>AUD</td>\n",
       "      <td>1582755</td>\n",
       "    </tr>\n",
       "    <tr>\n",
       "      <th>item_source_class</th>\n",
       "      <td>1</td>\n",
       "      <td>1</td>\n",
       "      <td>item_source_class</td>\n",
       "      <td>1</td>\n",
       "    </tr>\n",
       "    <tr>\n",
       "      <th>invoice_number</th>\n",
       "      <td>1988383</td>\n",
       "      <td>619293</td>\n",
       "      <td>7002085</td>\n",
       "      <td>897</td>\n",
       "    </tr>\n",
       "    <tr>\n",
       "      <th>line_number</th>\n",
       "      <td>1988383</td>\n",
       "      <td>143</td>\n",
       "      <td>0</td>\n",
       "      <td>1190970</td>\n",
       "    </tr>\n",
       "    <tr>\n",
       "      <th>invoice_date</th>\n",
       "      <td>1988383</td>\n",
       "      <td>544</td>\n",
       "      <td>20130430</td>\n",
       "      <td>8132</td>\n",
       "    </tr>\n",
       "    <tr>\n",
       "      <th>customer_order_number</th>\n",
       "      <td>1988383</td>\n",
       "      <td>648781</td>\n",
       "      <td>263824</td>\n",
       "      <td>301</td>\n",
       "    </tr>\n",
       "    <tr>\n",
       "      <th>order_date</th>\n",
       "      <td>1988383</td>\n",
       "      <td>805</td>\n",
       "      <td>20120620</td>\n",
       "      <td>6232</td>\n",
       "    </tr>\n",
       "    <tr>\n",
       "      <th>dss_update_time</th>\n",
       "      <td>1988383</td>\n",
       "      <td>2</td>\n",
       "      <td>49:58.7</td>\n",
       "      <td>1988382</td>\n",
       "    </tr>\n",
       "  </tbody>\n",
       "</table>\n",
       "</div>"
      ],
      "text/plain": [
       "                            count  unique                             top  \\\n",
       "accounting_date           1988383     544                        20130430   \n",
       "fiscal_year               1988383       4                            2013   \n",
       "fiscal_month              1988383      13                              11   \n",
       "calendar_year             1988383       3                            2012   \n",
       "calendar_month            1988383      13                               5   \n",
       "calendar_day              1988383      32                               5   \n",
       "company_code              1988383      11                             205   \n",
       "customer_code             1988383    4488                       234750001   \n",
       "customer_district_code    1988383      18                             300   \n",
       "item_code                 1988383   34473                           25550   \n",
       "business_area_code        1988383      29  LMP                              \n",
       "item_group_code           1988383     615                             999   \n",
       "item_class_code           1988383     205  LMP05                            \n",
       "item_type                 1988383      10                               7   \n",
       "bonus_group_code          1988383       3                 Trade             \n",
       "environment_group_code    1988383      10  C                                \n",
       "technology_group_code     1988383     104                              78   \n",
       "commission_group_code     1988383       4  NET_SALES                        \n",
       "reporting_classification  1988383       3                   Discontinuing   \n",
       "light_source              1988383       4                     Traditional   \n",
       "warehouse_code            1988383      60                             5N2   \n",
       "abc_class_code            1988383      11                               J   \n",
       "abc_class_volume          1988383      11                               J   \n",
       "business_chain_l1_code    1988383      49                             MED   \n",
       "business_chain_l1_name    1988383      44   Metro Electrical Distributors   \n",
       "contact_method_code       1988383    1666  NA                               \n",
       "salesperson_code          1988383     272                            T300   \n",
       "order_type_code           1988383      38                             NOR   \n",
       "market_segment            1988383       2         Commercial & Industrial   \n",
       "value_sales               1988383  125222                               0   \n",
       "value_cost                1988383  324348                               0   \n",
       "value_quantity            1988383    2292                              10   \n",
       "value_price_adjustment    1988383       3                               0   \n",
       "currency                  1988383       7                             AUD   \n",
       "item_source_class               1       1               item_source_class   \n",
       "invoice_number            1988383  619293                         7002085   \n",
       "line_number               1988383     143                               0   \n",
       "invoice_date              1988383     544                        20130430   \n",
       "customer_order_number     1988383  648781                          263824   \n",
       "order_date                1988383     805                        20120620   \n",
       "dss_update_time           1988383       2                         49:58.7   \n",
       "\n",
       "                             freq  \n",
       "accounting_date              8132  \n",
       "fiscal_year                978202  \n",
       "fiscal_month               213313  \n",
       "calendar_year             1037205  \n",
       "calendar_month             213313  \n",
       "calendar_day                74578  \n",
       "company_code              1414918  \n",
       "customer_code               61844  \n",
       "customer_district_code     429358  \n",
       "item_code                    9265  \n",
       "business_area_code         808688  \n",
       "item_group_code            187247  \n",
       "item_class_code            200724  \n",
       "item_type                  952028  \n",
       "bonus_group_code          1652568  \n",
       "environment_group_code     764544  \n",
       "technology_group_code      275724  \n",
       "commission_group_code     1893377  \n",
       "reporting_classification  1421405  \n",
       "light_source              1382270  \n",
       "warehouse_code             549104  \n",
       "abc_class_code             661307  \n",
       "abc_class_volume          1561088  \n",
       "business_chain_l1_code     439624  \n",
       "business_chain_l1_name     439624  \n",
       "contact_method_code       1901893  \n",
       "salesperson_code            97193  \n",
       "order_type_code           1612532  \n",
       "market_segment            1988382  \n",
       "value_sales                 22300  \n",
       "value_cost                  50113  \n",
       "value_quantity             264873  \n",
       "value_price_adjustment    1939831  \n",
       "currency                  1582755  \n",
       "item_source_class               1  \n",
       "invoice_number                897  \n",
       "line_number               1190970  \n",
       "invoice_date                 8132  \n",
       "customer_order_number         301  \n",
       "order_date                   6232  \n",
       "dss_update_time           1988382  "
      ]
     },
     "execution_count": 400,
     "metadata": {},
     "output_type": "execute_result"
    }
   ],
   "source": [
    "data.describe().T"
   ]
  },
  {
   "cell_type": "code",
   "execution_count": 401,
   "id": "0d3a4c1a-0ebf-4c05-88d5-c0873a5ebebc",
   "metadata": {},
   "outputs": [
    {
     "name": "stdout",
     "output_type": "stream",
     "text": [
      "\n",
      "First Few Rows of Dataset:\n",
      "  accounting_date fiscal_year fiscal_month calendar_year calendar_month  \\\n",
      "0        20120509        2012           11          2012              5   \n",
      "1        20120216        2012            8          2012              2   \n",
      "2        20120509        2012           11          2012              5   \n",
      "3        20120518        2012           11          2012              5   \n",
      "4        20120109        2012            7          2012              1   \n",
      "\n",
      "  calendar_day company_code customer_code customer_district_code  \\\n",
      "0            9          101     411800601                    410   \n",
      "1           16          101     361000403                    300   \n",
      "2            9          101     361000403                    300   \n",
      "3           18          101     565540415                    500   \n",
      "4            9          101     565540415                    500   \n",
      "\n",
      "                        item_code  ... value_quantity value_price_adjustment  \\\n",
      "0  GENIE8WWWBC                     ...             84                      0   \n",
      "1  GENIE8WWWBC                     ...             12                      0   \n",
      "2  GENIE8WWWBC                     ...             12                      0   \n",
      "3  GENIE8WWWBC                     ...              6                      0   \n",
      "4  GENIE8WWWBC                     ...              6                      0   \n",
      "\n",
      "  currency item_source_class invoice_number line_number invoice_date  \\\n",
      "0      AUD               NaN        2217887           1     20120509   \n",
      "1      AUD               NaN        2185745           1     20120216   \n",
      "2      AUD               NaN        2217807           1     20120509   \n",
      "3      AUD               NaN        2222758           1     20120518   \n",
      "4      AUD               NaN        2170374           1     20120109   \n",
      "\n",
      "  customer_order_number order_date dss_update_time  \n",
      "0               2865354   20120509         49:58.7  \n",
      "1               2833515   20120216         49:58.7  \n",
      "2               2864857   20120508         49:58.7  \n",
      "3               2869759   20120518         49:58.7  \n",
      "4               2819189   20120109         49:58.7  \n",
      "\n",
      "[5 rows x 41 columns]\n"
     ]
    }
   ],
   "source": [
    "print(\"\\nFirst Few Rows of Dataset:\")\n",
    "print(data.head())"
   ]
  },
  {
   "cell_type": "code",
   "execution_count": 402,
   "id": "1660d723-fc77-48a4-85d9-508d644b7991",
   "metadata": {},
   "outputs": [
    {
     "data": {
      "text/plain": [
       "accounting_date                544\n",
       "fiscal_year                      4\n",
       "fiscal_month                    13\n",
       "calendar_year                    3\n",
       "calendar_month                  13\n",
       "calendar_day                    32\n",
       "company_code                    11\n",
       "customer_code                 4488\n",
       "customer_district_code          18\n",
       "item_code                    34473\n",
       "business_area_code              29\n",
       "item_group_code                615\n",
       "item_class_code                205\n",
       "item_type                       10\n",
       "bonus_group_code                 3\n",
       "environment_group_code          10\n",
       "technology_group_code          104\n",
       "commission_group_code            4\n",
       "reporting_classification         3\n",
       "light_source                     4\n",
       "warehouse_code                  60\n",
       "abc_class_code                  11\n",
       "abc_class_volume                11\n",
       "business_chain_l1_code          49\n",
       "business_chain_l1_name          44\n",
       "contact_method_code           1666\n",
       "salesperson_code               272\n",
       "order_type_code                 38\n",
       "market_segment                   2\n",
       "value_sales                 125222\n",
       "value_cost                  324348\n",
       "value_quantity                2292\n",
       "value_price_adjustment           3\n",
       "currency                         7\n",
       "item_source_class                1\n",
       "invoice_number              619293\n",
       "line_number                    143\n",
       "invoice_date                   544\n",
       "customer_order_number       648781\n",
       "order_date                     805\n",
       "dss_update_time                  2\n",
       "dtype: int64"
      ]
     },
     "execution_count": 402,
     "metadata": {},
     "output_type": "execute_result"
    }
   ],
   "source": [
    "data.nunique()"
   ]
  },
  {
   "cell_type": "code",
   "execution_count": 403,
   "id": "1c8e39c5-1374-4691-b813-29c7791e8ad0",
   "metadata": {},
   "outputs": [
    {
     "name": "stdout",
     "output_type": "stream",
     "text": [
      "Missing values in the dataset:\n",
      " accounting_date                   0\n",
      "fiscal_year                       0\n",
      "fiscal_month                      0\n",
      "calendar_year                     0\n",
      "calendar_month                    0\n",
      "calendar_day                      0\n",
      "company_code                      0\n",
      "customer_code                     0\n",
      "customer_district_code            0\n",
      "item_code                         0\n",
      "business_area_code                0\n",
      "item_group_code                   0\n",
      "item_class_code                   0\n",
      "item_type                         0\n",
      "bonus_group_code                  0\n",
      "environment_group_code            0\n",
      "technology_group_code             0\n",
      "commission_group_code             0\n",
      "reporting_classification          0\n",
      "light_source                      0\n",
      "warehouse_code                    0\n",
      "abc_class_code                    0\n",
      "abc_class_volume                  0\n",
      "business_chain_l1_code            0\n",
      "business_chain_l1_name            0\n",
      "contact_method_code               0\n",
      "salesperson_code                  0\n",
      "order_type_code                   0\n",
      "market_segment                    0\n",
      "value_sales                       0\n",
      "value_cost                        0\n",
      "value_quantity                    0\n",
      "value_price_adjustment            0\n",
      "currency                          0\n",
      "item_source_class           1988382\n",
      "invoice_number                    0\n",
      "line_number                       0\n",
      "invoice_date                      0\n",
      "customer_order_number             0\n",
      "order_date                        0\n",
      "dss_update_time                   0\n",
      "dtype: int64\n"
     ]
    }
   ],
   "source": [
    "#Missing Values Per Column\n",
    "missing_values = data.isnull().sum()\n",
    "print(\"Missing values in the dataset:\\n\", missing_values)"
   ]
  },
  {
   "cell_type": "code",
   "execution_count": 404,
   "id": "181c5e59-9534-49eb-a056-7bb423f5959f",
   "metadata": {},
   "outputs": [
    {
     "name": "stdout",
     "output_type": "stream",
     "text": [
      "accounting_date             object\n",
      "fiscal_year                 object\n",
      "fiscal_month                object\n",
      "calendar_year               object\n",
      "calendar_month              object\n",
      "calendar_day                object\n",
      "company_code                object\n",
      "customer_code               object\n",
      "customer_district_code      object\n",
      "item_code                   object\n",
      "business_area_code          object\n",
      "item_group_code             object\n",
      "item_class_code             object\n",
      "item_type                   object\n",
      "bonus_group_code            object\n",
      "environment_group_code      object\n",
      "technology_group_code       object\n",
      "commission_group_code       object\n",
      "reporting_classification    object\n",
      "light_source                object\n",
      "warehouse_code              object\n",
      "abc_class_code              object\n",
      "abc_class_volume            object\n",
      "business_chain_l1_code      object\n",
      "business_chain_l1_name      object\n",
      "contact_method_code         object\n",
      "salesperson_code            object\n",
      "order_type_code             object\n",
      "market_segment              object\n",
      "value_sales                 object\n",
      "value_cost                  object\n",
      "value_quantity              object\n",
      "value_price_adjustment      object\n",
      "currency                    object\n",
      "item_source_class           object\n",
      "invoice_number              object\n",
      "line_number                 object\n",
      "invoice_date                object\n",
      "customer_order_number       object\n",
      "order_date                  object\n",
      "dss_update_time             object\n",
      "dtype: object\n"
     ]
    }
   ],
   "source": [
    "print(data.dtypes) #checking the datatype of the dataframe"
   ]
  },
  {
   "cell_type": "code",
   "execution_count": 405,
   "id": "7ad6353b-0463-4ca0-bf2e-d5f01f173557",
   "metadata": {},
   "outputs": [],
   "source": [
    "data['item_source_class'] = data['item_source_class'].fillna(data['item_source_class'].mode()[0])"
   ]
  },
  {
   "cell_type": "code",
   "execution_count": 406,
   "id": "6b7fa8c6-f1a6-40f8-b02b-886f679023d3",
   "metadata": {},
   "outputs": [
    {
     "name": "stdout",
     "output_type": "stream",
     "text": [
      "Missing values in the dataset:\n",
      " accounting_date             0\n",
      "fiscal_year                 0\n",
      "fiscal_month                0\n",
      "calendar_year               0\n",
      "calendar_month              0\n",
      "calendar_day                0\n",
      "company_code                0\n",
      "customer_code               0\n",
      "customer_district_code      0\n",
      "item_code                   0\n",
      "business_area_code          0\n",
      "item_group_code             0\n",
      "item_class_code             0\n",
      "item_type                   0\n",
      "bonus_group_code            0\n",
      "environment_group_code      0\n",
      "technology_group_code       0\n",
      "commission_group_code       0\n",
      "reporting_classification    0\n",
      "light_source                0\n",
      "warehouse_code              0\n",
      "abc_class_code              0\n",
      "abc_class_volume            0\n",
      "business_chain_l1_code      0\n",
      "business_chain_l1_name      0\n",
      "contact_method_code         0\n",
      "salesperson_code            0\n",
      "order_type_code             0\n",
      "market_segment              0\n",
      "value_sales                 0\n",
      "value_cost                  0\n",
      "value_quantity              0\n",
      "value_price_adjustment      0\n",
      "currency                    0\n",
      "item_source_class           0\n",
      "invoice_number              0\n",
      "line_number                 0\n",
      "invoice_date                0\n",
      "customer_order_number       0\n",
      "order_date                  0\n",
      "dss_update_time             0\n",
      "dtype: int64\n"
     ]
    }
   ],
   "source": [
    "#Missing Values Per Column , rechecking after the removal of null values in item_source_class\n",
    "missing_values = data.isnull().sum()\n",
    "print(\"Missing values in the dataset:\\n\", missing_values)"
   ]
  },
  {
   "cell_type": "code",
   "execution_count": 407,
   "id": "071e69fe-37b0-40a6-946e-9c5621a711f0",
   "metadata": {},
   "outputs": [],
   "source": [
    "# converting columns to numeric\n",
    "numeric_cols = ['value_sales', 'value_cost', 'value_quantity', 'value_price_adjustment']\n",
    "for col in numeric_cols:\n",
    "    data[col] = pd.to_numeric(data[col], errors='coerce')  # Coerce will set non-numeric values to NaN"
   ]
  },
  {
   "cell_type": "code",
   "execution_count": 408,
   "id": "fbf0332a-f7ce-4636-85c6-6b136feafdd0",
   "metadata": {},
   "outputs": [
    {
     "name": "stdout",
     "output_type": "stream",
     "text": [
      "        value_sales    value_cost  value_quantity  value_price_adjustment\n",
      "count  1.988382e+06  1.988382e+06    1.988382e+06            1.988382e+06\n",
      "mean   4.098476e+02  2.638138e+02    2.718023e+01            2.441734e-02\n",
      "std    2.935179e+03  2.050514e+03    3.294667e+02            1.543410e-01\n",
      "min   -7.935420e+05 -1.414695e+05   -4.500000e+04            0.000000e+00\n",
      "25%    2.300000e+01  9.381000e+00    2.000000e+00            0.000000e+00\n",
      "50%    6.750000e+01  3.107000e+01    6.000000e+00            0.000000e+00\n",
      "75%    1.977000e+02  1.019106e+02    2.000000e+01            0.000000e+00\n",
      "max    7.935420e+05  7.776692e+05    1.050000e+05            1.000000e+00\n"
     ]
    }
   ],
   "source": [
    "# Get descriptive statistics for numeric columns\n",
    "stats = data[numeric_cols].describe()\n",
    "print(stats)"
   ]
  },
  {
   "cell_type": "code",
   "execution_count": 409,
   "id": "3069054a-5384-434e-aaf2-66701f9dff5d",
   "metadata": {},
   "outputs": [
    {
     "name": "stdout",
     "output_type": "stream",
     "text": [
      "Variance:\n",
      " value_sales               8.615278e+06\n",
      "value_cost                4.204608e+06\n",
      "value_quantity            1.085483e+05\n",
      "value_price_adjustment    2.382115e-02\n",
      "dtype: float64\n"
     ]
    }
   ],
   "source": [
    "variance = data[numeric_cols].var()\n",
    "print(\"Variance:\\n\", variance)"
   ]
  },
  {
   "cell_type": "code",
   "execution_count": 410,
   "id": "3b637c62-a834-4624-869c-ad3a4b1619ac",
   "metadata": {},
   "outputs": [
    {
     "data": {
      "image/png": "[encoded data removed]",
      "text/plain": [
       "<Figure size 1200x800 with 4 Axes>"
      ]
     },
     "metadata": {},
     "output_type": "display_data"
    }
   ],
   "source": [
    "import seaborn as sns\n",
    "# Define numeric columns and grid layout (2 rows, 2 columns)\n",
    "fig, axes = plt.subplots(2, 2, figsize=(12, 8))  # 2x2 grid\n",
    "\n",
    "# Flatten axes array for easy indexing\n",
    "axes = axes.flatten()\n",
    "\n",
    "# Generate histograms for each numeric column\n",
    "for i, col in enumerate(numeric_cols):\n",
    "    sns.histplot(data[col], bins=30, kde=True, ax=axes[i])\n",
    "    axes[i].set_title(f'Distribution of {col}')\n",
    "\n",
    "# Adjust layout for readability\n",
    "plt.tight_layout()\n",
    "plt.show()"
   ]
  },
  {
   "cell_type": "code",
   "execution_count": 411,
   "id": "0ec37040-ada9-45a2-81e1-e3f4da5f27fc",
   "metadata": {},
   "outputs": [
    {
     "name": "stdout",
     "output_type": "stream",
     "text": [
      "value_sales               1\n",
      "value_cost                1\n",
      "value_quantity            1\n",
      "value_price_adjustment    1\n",
      "dtype: int64\n"
     ]
    }
   ],
   "source": [
    "# Check for NaN values in numeric columns\n",
    "print(data[numeric_cols].isna().sum())"
   ]
  },
  {
   "cell_type": "code",
   "execution_count": 412,
   "id": "83b0f803-33fe-46f4-8720-7a6b51d90f55",
   "metadata": {},
   "outputs": [
    {
     "name": "stdout",
     "output_type": "stream",
     "text": [
      "Columns with missing values:\n",
      "value_sales               1\n",
      "value_cost                1\n",
      "value_quantity            1\n",
      "value_price_adjustment    1\n",
      "dtype: int64\n"
     ]
    }
   ],
   "source": [
    "# Check for missing values in the entire DataFrame\n",
    "missing_values = data.isna().sum()\n",
    "\n",
    "# Filter to show only columns with missing values\n",
    "missing_values = missing_values[missing_values > 0]\n",
    "\n",
    "\n",
    "print(\"Columns with missing values:\")\n",
    "print(missing_values)"
   ]
  },
  {
   "cell_type": "code",
   "execution_count": 413,
   "id": "cbb95c90-2249-4b93-8a52-6c587be4f1e3",
   "metadata": {},
   "outputs": [],
   "source": [
    "# Drop rows with NaN values in the specified columns\n",
    "data_cleaned = data.dropna(subset=['value_sales', 'value_cost', 'value_quantity', 'value_price_adjustment'])"
   ]
  },
  {
   "cell_type": "code",
   "execution_count": 414,
   "id": "92852dfb-3498-444b-88d6-c00adf889dde",
   "metadata": {},
   "outputs": [
    {
     "name": "stdout",
     "output_type": "stream",
     "text": [
      "Columns with missing values after dropping:\n",
      "Series([], dtype: int64)\n"
     ]
    }
   ],
   "source": [
    "# Check for missing values in the entire DataFrame\n",
    "missing_values = data_cleaned.isna().sum()\n",
    "missing_values = missing_values[missing_values > 0]\n",
    "\n",
    "print(\"Columns with missing values after dropping:\")\n",
    "print(missing_values)\n",
    "\n",
    "#the below results shows that there is no missing values present in the dataframe\n"
   ]
  },
  {
   "cell_type": "code",
   "execution_count": 415,
   "id": "756dc90a-c54b-4ace-8bd7-da5664a4cec3",
   "metadata": {},
   "outputs": [
    {
     "data": {
      "image/png": "[encoded data removed]",
      "text/plain": [
       "<Figure size 1500x800 with 4 Axes>"
      ]
     },
     "metadata": {},
     "output_type": "display_data"
    }
   ],
   "source": [
    "# Create box plots for your numeric columns\n",
    "numeric_cols = ['value_sales', 'value_cost', 'value_quantity', 'value_price_adjustment']\n",
    "plt.figure(figsize=(15, 8))\n",
    "\n",
    "for i, col in enumerate(numeric_cols, 1):\n",
    "    plt.subplot(2, 2, i)\n",
    "    sns.boxplot(data=data, y=col)\n",
    "    plt.title(f'Box Plot of {col}')\n",
    "\n",
    "plt.tight_layout()\n",
    "plt.show()"
   ]
  },
  {
   "cell_type": "code",
   "execution_count": 416,
   "id": "c456496a-e3d0-4c72-b476-2a2b5fe066f1",
   "metadata": {},
   "outputs": [],
   "source": [
    "# Cap outliers based on IQR\n",
    "for col in numeric_cols:\n",
    "    Q1 = data[col].quantile(0.25)\n",
    "    Q3 = data[col].quantile(0.75)\n",
    "    IQR = Q3 - Q1\n",
    "    lower_bound = Q1 - 1.5 * IQR\n",
    "    upper_bound = Q3 + 1.5 * IQR\n",
    "    data[col] = data[col].apply(lambda x: lower_bound if x < lower_bound else upper_bound if x > upper_bound else x)"
   ]
  },
  {
   "cell_type": "code",
   "execution_count": 417,
   "id": "b4fc93be-58af-4bbf-bd21-b293f0e6abe3",
   "metadata": {},
   "outputs": [
    {
     "data": {
      "image/png": "[encoded data removed]",
      "text/plain": [
       "<Figure size 1500x800 with 4 Axes>"
      ]
     },
     "metadata": {},
     "output_type": "display_data"
    }
   ],
   "source": [
    "plt.figure(figsize=(15, 8))\n",
    "\n",
    "for i, col in enumerate(numeric_cols, 1):\n",
    "    plt.subplot(2, 2, i)\n",
    "    sns.boxplot(data=data, y=col)\n",
    "    plt.title(f'Box Plot of {col} (After Capping)')\n",
    "\n",
    "plt.tight_layout()\n",
    "plt.show()"
   ]
  },
  {
   "cell_type": "code",
   "execution_count": 418,
   "id": "d3cc4cc3-f75d-488c-803c-40fa4bd7dec7",
   "metadata": {},
   "outputs": [
    {
     "name": "stdout",
     "output_type": "stream",
     "text": [
      "Skewness after capping outliers:\n",
      "value_sales               0.949747\n",
      "value_cost                1.005379\n",
      "value_quantity            1.304370\n",
      "value_price_adjustment    0.000000\n",
      "dtype: float64\n"
     ]
    }
   ],
   "source": [
    "# Recheck skewness for each numeric column\n",
    "skewness = data[numeric_cols].skew()\n",
    "print(\"Skewness after capping outliers:\")\n",
    "print(skewness)"
   ]
  },
  {
   "cell_type": "code",
   "execution_count": 419,
   "id": "b5fd6066-baf0-4b20-b0ab-940fdc04b5af",
   "metadata": {},
   "outputs": [],
   "source": [
    "# data['value_sales'] = np.sqrt(data['value_sales'])\n",
    "# print(\"Skewness of value_sales after cube root transform:\", data['value_sales'].skew())"
   ]
  },
  {
   "cell_type": "code",
   "execution_count": 420,
   "id": "4ad4da7d-8f50-4dc1-933f-f9654864c9a3",
   "metadata": {},
   "outputs": [],
   "source": [
    "# Apply cube root transformation to the skewed columns\n",
    "# data['value_sales'] = np.cbrt(data['value_sales'])\n",
    "data['value_cost'] = np.cbrt(data['value_cost'])\n",
    "data['value_quantity'] = np.cbrt(data['value_quantity'])"
   ]
  },
  {
   "cell_type": "code",
   "execution_count": 421,
   "id": "be225890-6772-4991-9daf-597e8fc331b9",
   "metadata": {},
   "outputs": [
    {
     "name": "stdout",
     "output_type": "stream",
     "text": [
      "Skewness of value_cost after cube root transform: -0.909673432989206\n",
      "Skewness of value_quantity after cube root transform: -0.9674895353498867\n",
      "Skewness of value_cost after cube root transform: 0.949747377250766\n",
      "Skewness of value_cost after cube root transform: 0.0\n"
     ]
    }
   ],
   "source": [
    "# Calculate and print skewness of each transformed column\n",
    "\n",
    "print(\"Skewness of value_cost after cube root transform:\", data['value_cost'].skew())\n",
    "print(\"Skewness of value_quantity after cube root transform:\", data['value_quantity'].skew())\n",
    "print(\"Skewness of value_cost after cube root transform:\", data['value_sales'].skew())\n",
    "print(\"Skewness of value_cost after cube root transform:\", data['value_price_adjustment'].skew())"
   ]
  },
  {
   "cell_type": "code",
   "execution_count": 422,
   "id": "1bc9e779-40eb-4eff-8f52-66aeb7346913",
   "metadata": {},
   "outputs": [],
   "source": [
    "# # Fill missing values in numeric columns with median without inplace\n",
    "# data['value_sales'] = data['value_sales'].fillna(data['value_sales'].median())\n",
    "# data['value_cost'] = data['value_cost'].fillna(data['value_cost'].median())\n",
    "# data['value_quantity'] = data['value_quantity'].fillna(data['value_quantity'].median())\n",
    "# data['value_price_adjustment'] = data['value_price_adjustment'].fillna(data['value_price_adjustment'].median())\n",
    "\n",
    "# # Check if missing values have been filled\n",
    "# missing_values_after = data.isnull().sum()\n",
    "# print(\"After filling missing values in numeric columns:\\n\", missing_values_after)"
   ]
  },
  {
   "cell_type": "code",
   "execution_count": 451,
   "id": "a2364f90-6d8a-41e9-8e5d-1fbb9e64f19e",
   "metadata": {},
   "outputs": [],
   "source": [
    "# # Calculate Z-scores for numerical columns\n",
    "# data['value_sales_z'] = zscore(data['value_sales'])\n",
    "# data['value_cost_z'] = zscore(data['value_cost'])\n",
    "# data['value_quantity_z'] = zscore(data['value_quantity'])\n",
    "# data['value_price_adjustment_z'] = zscore(data['value_price_adjustment'])\n",
    "\n",
    "# # Identify outliers (e.g., Z-score greater than 3 or less than -3)\n",
    "# outliers_sales = data[(data['value_sales_z'] > 3) | (data['value_sales_z'] < -3)]\n",
    "# outliers_cost = data[(data['value_cost_z'] > 3) | (data['value_cost_z'] < -3)]\n",
    "# outliers_quantity = data[(data['value_quantity_z'] > 3) | (data['value_quantity_z'] < -3)]\n",
    "# outliers_price_adjustment = data[(data['value_price_adjustment_z'] > 3) | (data['value_price_adjustment_z'] < -3)]\n",
    "\n",
    "# (\"Outliers in value_sales:\\n\", outliers_sales)\n",
    "# (\"Outliers in value_cost:\\n\", outliers_cost)\n",
    "# (\"Outliers in value_quantity:\\n\", outliers_quantity)\n",
    "# (\"Outliers in value_price_adjustment:\\n\", outliers_price_adjustment)"
   ]
  },
  {
   "cell_type": "markdown",
   "id": "c9e85581-52a7-4667-8a46-f5a4dc3a3ac8",
   "metadata": {},
   "source": [
    "<h3>Section 2: <u>Exploratory Insights</u></h3>"
   ]
  },
  {
   "cell_type": "markdown",
   "id": "9b484cc5-78df-404a-88a4-0919e645df11",
   "metadata": {},
   "source": [
    "#### In this section, five exploratory insights from the dataset will be analyzed using various methods (visualization, t-test, etc.)."
   ]
  },
  {
   "cell_type": "code",
   "execution_count": 202,
   "id": "63ffc9e0-0014-49fe-bfc2-7f9602c199cd",
   "metadata": {},
   "outputs": [
    {
     "data": {
      "image/png": "[encoded data removed]",
      "text/plain": [
       "<Figure size 1000x600 with 1 Axes>"
      ]
     },
     "metadata": {},
     "output_type": "display_data"
    }
   ],
   "source": [
    "#Time Difference Between Order and Invoice Date\n",
    "# Calculate the time difference in days\n",
    "# Convert order_date and invoice_date columns to datetime format with specific format\n",
    "data['order_date'] = pd.to_datetime(data['order_date'], errors='coerce')\n",
    "data['invoice_date'] = pd.to_datetime(data['invoice_date'], errors='coerce')\n",
    "data['time_gap'] = (data['invoice_date'] - data['order_date']).dt.days\n",
    "\n",
    "# Plotting the histogram\n",
    "plt.figure(figsize=(10, 6))\n",
    "plt.hist(data['time_gap'].dropna(), bins=30, color='skyblue', edgecolor='black')\n",
    "plt.xlabel('Days between Order Date and Invoice Date')\n",
    "plt.ylabel('Frequency')\n",
    "plt.title('Distribution of Time Gap between Order and Invoice Dates')\n",
    "plt.show()"
   ]
  },
  {
   "cell_type": "markdown",
   "id": "00bb2970-ab82-4b13-bdf5-42643a945e38",
   "metadata": {},
   "source": [
    "The purpose here is to calculate the average day difference between order and invoice dates, which helps us understand operational efficiency in terms of delivery time."
   ]
  },
  {
   "cell_type": "markdown",
   "id": "02a12fc1-5fe4-46ec-8f68-04055b5f9aee",
   "metadata": {},
   "source": [
    "The graph shows that the vast majority of the days between the order date and the invoice date are close to zero. This situation indicates that orders are processed and invoiced quickly, giving the impression that operational efficiency is high. However, it is noteworthy that the days difference is quite large in a few data points. Such high values ​​indicate serious delays in the invoicing process. The reasons for the delay can be various, disruptions in operational processes, unexpected workloads, or errors in data entry. These findings provide important information for management. While management generally tries to maintain a fast invoicing process, it can also analyze the reasons for these large delays. By examining such situations, making improvements in the processes can increase customer satisfaction and help reduce operational disruptions. This analysis will be an important step in increasing efficiency and solving potential problems in the order-to-invoice transition process."
   ]
  },
  {
   "cell_type": "code",
   "execution_count": 206,
   "id": "0380c430-ffe3-4203-a5ca-f0a036cb072c",
   "metadata": {},
   "outputs": [
    {
     "name": "stdout",
     "output_type": "stream",
     "text": [
      "Customer Retention Rate: 95.03%\n"
     ]
    }
   ],
   "source": [
    "#Customer Retention Rates\n",
    "#Count of orders per customer\n",
    "customer_order_counts = data['customer_code'].value_counts()\n",
    "\n",
    "# Determine retention rate\n",
    "retained_customers = customer_order_counts[customer_order_counts > 1].count()\n",
    "total_customers = customer_order_counts.count()\n",
    "retention_rate = retained_customers / total_customers * 100\n",
    "\n",
    "print(f\"Customer Retention Rate: {retention_rate:.2f}%\")"
   ]
  },
  {
   "cell_type": "markdown",
   "id": "91fe1a8d-09f2-4e4b-b625-ae40374e69a6",
   "metadata": {},
   "source": [
    "The customer retention rate analysis reveals that 95.03% of the customer base is repeating orders. This high rate indicates that customer loyalty is strong and existing customers are loyal to the brand. For management, this insight shows that customer relationship strategies are working effectively and customer satisfaction is being maintained. A high customer retention rate secures long-term revenue streams while encouraging marketing strategies to focus on existing customers rather than acquiring new customers. Given the success of existing loyalty programs, strengthening these programs and increasing customer loyalty can support business continuity and help the brand maintain its market share."
   ]
  },
  {
   "cell_type": "code",
   "execution_count": 209,
   "id": "8f2a8a7e-4a40-4e4a-bca3-87d08a3b0f09",
   "metadata": {},
   "outputs": [
    {
     "data": {
      "image/png": "[encoded data removed]",
      "text/plain": [
       "<Figure size 1200x600 with 1 Axes>"
      ]
     },
     "metadata": {},
     "output_type": "display_data"
    }
   ],
   "source": [
    "#Sales Trends Over Time\n",
    "# Group by month and calculate total sales\n",
    "monthly_sales = data.groupby(data['invoice_date'].dt.to_period('M'))['value_sales'].sum().reset_index()\n",
    "monthly_sales['invoice_date'] = monthly_sales['invoice_date'].dt.to_timestamp()\n",
    "\n",
    "# Plotting the sales trend\n",
    "plt.figure(figsize=(12, 6))\n",
    "plt.plot(monthly_sales['invoice_date'], monthly_sales['value_sales'], marker='o')\n",
    "plt.xlabel('Date')\n",
    "plt.ylabel('Total Sales')\n",
    "plt.title('Monthly Sales Trends')\n",
    "plt.show()"
   ]
  },
  {
   "cell_type": "markdown",
   "id": "755ce453-77b3-4fc3-a900-b5050d73385f",
   "metadata": {},
   "source": [
    "The graph shows that monthly sales trends between 2012 and 2014 have a fluctuating structure. Although there is no significant increase or decrease in sales, it is noteworthy that sales peak in some months and then experience sharp decreases in the following months. These fluctuations may have occurred due to seasonal demands, marketing campaigns or special discounts. The high sales experienced especially in the beginning and fall of 2012 indicate an increase in demand in certain periods. Such periodic increases provide important information that management can consider in determining sales strategies and inventory management planning. Management can increase sales by organizing special campaigns during periods of low sales and create a more efficient process by optimizing stock quantities during periods of high demand. This analysis provides critical insights for developing sales strategies with a data-driven approach."
   ]
  },
  {
   "cell_type": "code",
   "execution_count": 212,
   "id": "8d7dbea3-ac8e-4bd3-ae82-2b1737c7d2fe",
   "metadata": {},
   "outputs": [
    {
     "data": {
      "image/png": "[encoded data removed]",
      "text/plain": [
       "<Figure size 1400x700 with 1 Axes>"
      ]
     },
     "metadata": {},
     "output_type": "display_data"
    }
   ],
   "source": [
    "#Profitability Analysis by Region\n",
    "# Calculate total sales and cost per district\n",
    "district_profit = data.groupby('customer_district_code').agg({\n",
    "    'value_sales': 'sum',\n",
    "    'value_cost': 'sum'\n",
    "}).reset_index()\n",
    "district_profit['profit_margin'] = (district_profit['value_sales'] - district_profit['value_cost']) / district_profit['value_sales'] * 100\n",
    "\n",
    "# Bar plot of profit margin by district\n",
    "plt.figure(figsize=(14, 7))\n",
    "plt.bar(district_profit['customer_district_code'], district_profit['profit_margin'], color='teal')\n",
    "plt.xlabel('Customer District Code')\n",
    "plt.ylabel('Profit Margin (%)')\n",
    "plt.title('Profit Margin by Customer District')\n",
    "plt.xticks(rotation=90)\n",
    "plt.show()"
   ]
  },
  {
   "cell_type": "markdown",
   "id": "f07a9af6-ff46-4df5-8d0e-8ff3462d434f",
   "metadata": {},
   "source": [
    "The graph shows the percentage distribution of profit margins in different customer regions. The variation in profit margins across regions may be due to regional cost differences or pricing strategies. While profit margins approach 50% in some regions, they remain at lower levels in others. This variation provides important insights for management; in regions with low profit margins, there may be opportunities to increase profitability by making cost optimization or price adjustments. At the same time, strengthening customer relationships and increasing customer loyalty in regions with high profitability can be valuable for the business. This analysis provides important data that will help management develop regional strategies and increase overall profitability."
   ]
  },
  {
   "cell_type": "code",
   "execution_count": 215,
   "id": "e2ffff09-0d28-4412-9ac5-fbfcca0497a2",
   "metadata": {},
   "outputs": [
    {
     "data": {
      "image/png": "[encoded data removed]",
      "text/plain": [
       "<Figure size 1000x600 with 1 Axes>"
      ]
     },
     "metadata": {},
     "output_type": "display_data"
    }
   ],
   "source": [
    "#Effect of Different Currencies on Profit Margin\n",
    "# Calculate profit margin per currency\n",
    "currency_profit = data.groupby('currency').agg({\n",
    "    'value_sales': 'sum',\n",
    "    'value_cost': 'sum'\n",
    "}).reset_index()\n",
    "currency_profit['profit_margin'] = (currency_profit['value_sales'] - currency_profit['value_cost']) / currency_profit['value_sales'] * 100\n",
    "\n",
    "# Bar plot of profit margin by currency\n",
    "plt.figure(figsize=(10, 6))\n",
    "plt.bar(currency_profit['currency'], currency_profit['profit_margin'], color='coral')\n",
    "plt.xlabel('Currency')\n",
    "plt.ylabel('Profit Margin (%)')\n",
    "plt.title('Profit Margin by Currency')\n",
    "plt.show()"
   ]
  },
  {
   "cell_type": "markdown",
   "id": "3b5625b1-6bb7-4de2-bb29-6a9f51f6fccf",
   "metadata": {},
   "source": [
    "The graph shows the percentage distribution of profit margins for different currencies. The difference in profit margins between currencies may be due to exchange rate fluctuations, regional pricing strategies or differences in operational costs. For example, while profit margins are high in some currencies such as AUD and USD, EUR has a low or negative profit margin. This situation provides opportunities to increase profitability by reviewing pricing strategies or optimizing costs, especially in currencies with low profit margins. As a result of this analysis, management can evaluate profitability on a currency basis and make strategic adjustments in certain regions and make data-based decisions to increase overall profitability. This analysis provides valuable insight into the effects of different currencies on profitability."
   ]
  },
  {
   "cell_type": "markdown",
   "id": "aed34325-4483-4ba8-8e96-3c5026973894",
   "metadata": {},
   "source": [
    "<h3>Section 3: <u>Test Sub Sample Differences</u></h3>"
   ]
  },
  {
   "cell_type": "markdown",
   "id": "1ab95ba2-8344-4568-952f-e5279b1c3dec",
   "metadata": {},
   "source": [
    "Testing Sample Differences, we used the independent samples t-test to test the differences between two samples as a group. This test allowed us to determine whether the means of two different groups were significantly different. In the first question, we applied the independent samples t-test to determine the difference in sales between customer segments (individual and corporate). In the second question, we analyzed the profit margin differences between different customer regions. In both analyses, we calculated the t-statistic and p-value to determine whether the difference between the groups was significant. These methods provided important insights for management that would contribute to the strategic decision-making process."
   ]
  },
  {
   "cell_type": "code",
   "execution_count": 220,
   "id": "70426887-ebaf-4033-ae15-857885ef530a",
   "metadata": {},
   "outputs": [
    {
     "name": "stdout",
     "output_type": "stream",
     "text": [
      "Valid Sales in Commercial & Industrial Segment: 1988382\n",
      "Valid Sales in Residential Segment: 0\n",
      "There is no valid data for the Residential segment.\n"
     ]
    }
   ],
   "source": [
    "# Filter sales data for Commercial & Industrial segment\n",
    "commercial_sales = data[data['market_segment'] == 'Commercial & Industrial']['value_sales'].dropna()\n",
    "\n",
    "# Check if there's a Residential segment for comparison\n",
    "residential_sales = data[data['market_segment'] == 'Residential']['value_sales'].dropna()\n",
    "\n",
    "# Print counts of valid sales entries\n",
    "print(f\"Valid Sales in Commercial & Industrial Segment: {commercial_sales.count()}\")\n",
    "print(f\"Valid Sales in Residential Segment: {residential_sales.count()}\")\n",
    "\n",
    "# Independent samples t-test if both segments have valid data\n",
    "if residential_sales.count() > 0:\n",
    "    # Independent samples t-test\n",
    "    t_stat, p_value = ttest_ind(commercial_sales, residential_sales, equal_var=False)\n",
    "\n",
    "    # Print results\n",
    "    print(f\"T-statistic: {t_stat:.2f}, P-value: {p_value:.4f}\")\n",
    "\n",
    "    # Interpretation for management\n",
    "    if p_value < 0.05:\n",
    "        print(\"The results indicate a significant difference in sales between the Commercial & Industrial and Residential segments.\")\n",
    "    else:\n",
    "        print(\"The results indicate no significant difference in sales between the Commercial & Industrial and Residential segments.\")\n",
    "else:\n",
    "    print(\"There is no valid data for the Residential segment.\")"
   ]
  },
  {
   "cell_type": "code",
   "execution_count": 222,
   "id": "0dc4d66e-9221-44ee-87ba-fc617a0c8aa9",
   "metadata": {},
   "outputs": [
    {
     "name": "stdout",
     "output_type": "stream",
     "text": [
      "T-statistic: 31.80, P-value: 0.0000\n",
      "The results indicate a significant difference in profit margins between District 410 and District 300.\n"
     ]
    }
   ],
   "source": [
    "# Sample data for profit margins in two different districts\n",
    "district_410_profit_margin = data[data['customer_district_code'] == '410']['value_sales'] - data[data['customer_district_code'] == '410']['value_cost']\n",
    "district_300_profit_margin = data[data['customer_district_code'] == '300']['value_sales'] - data[data['customer_district_code'] == '300']['value_cost']\n",
    "\n",
    "# Independent samples t-test\n",
    "t_stat, p_value = ttest_ind(district_410_profit_margin.dropna(), district_300_profit_margin.dropna(), equal_var=False)\n",
    "\n",
    "# Print results\n",
    "print(f\"T-statistic: {t_stat:.2f}, P-value: {p_value:.4f}\")\n",
    "\n",
    "# Interpretation for management\n",
    "if p_value < 0.05:\n",
    "    print(\"The results indicate a significant difference in profit margins between District 410 and District 300.\")\n",
    "else:\n",
    "    print(\"The results indicate no significant difference in profit margins between District 410 and District 300.\")"
   ]
  },
  {
   "cell_type": "code",
   "execution_count": 224,
   "id": "60f59ac5-1cc7-42ca-b8ab-4b9317b83f0d",
   "metadata": {},
   "outputs": [
    {
     "name": "stdout",
     "output_type": "stream",
     "text": [
      "Unique values in customer_district_code: ['410' '300' '500' '310' '400' '200' '210' '720' '710' '600' '510' '530'\n",
      " '535' '540' '520' '545' 'customer_district_code' '100']\n"
     ]
    }
   ],
   "source": [
    "# Check the unique values in customer_district_code\n",
    "unique_districts = data['customer_district_code'].unique()\n",
    "print(\"Unique values in customer_district_code:\", unique_districts)"
   ]
  },
  {
   "cell_type": "markdown",
   "id": "736da6f0-af11-434a-8166-c248f87530bc",
   "metadata": {},
   "source": [
    "In this section, we conducted two separate analyses to determine the profit margin differences between customer segments and regions. First, we examined the sales data in the Commercial & Industrial segment. Our results revealed that this segment has a large customer base and is a significant source of revenue. However, since there was no valid data in the Residential segment, we could not make a comparison with this segment.\n",
    "\n",
    "In our second analysis, we evaluated the profit margin differences between District 410 and District 300. The independent sample t-test we applied showed that there was a statistically significant difference between the two regions (T-statistic: 31.80, P-value: 0.0000). This result provides important information for management; since District 410 provides higher profit margins, management can have the potential to increase profits by focusing its strategies on this region. At the same time, it is possible to develop strategies to increase sales in underperforming regions.\n",
    "\n",
    "Ultimately, these analytics will help the business make data-driven decisions to optimize profit margins and develop more effective marketing strategies."
   ]
  },
  {
   "cell_type": "markdown",
   "id": "cc48cb01-8534-455b-91fd-20b5256aefd9",
   "metadata": {},
   "source": [
    "<h3>Section 4: <u>Inference</u></h3>"
   ]
  },
  {
   "cell_type": "markdown",
   "id": "d777bc3b-2670-4b94-9ab7-d8cb39b596ec",
   "metadata": {},
   "source": [
    "### Question 1: What Factors Determine Sales Value?"
   ]
  },
  {
   "cell_type": "code",
   "execution_count": 229,
   "id": "f3a1cbba-08db-4f8e-84b2-7838a0977a32",
   "metadata": {},
   "outputs": [
    {
     "name": "stdout",
     "output_type": "stream",
     "text": [
      "Variance of each variable:\n",
      "value_cost: 47236.72584403056\n",
      "value_quantity: 474.7520565510026\n",
      "value_price_adjustment: 0.0\n"
     ]
    }
   ],
   "source": [
    "# Check variance for each independent variable\n",
    "print(\"Variance of each variable:\")\n",
    "print(\"value_cost:\", data['value_cost'].var())\n",
    "print(\"value_quantity:\", data['value_quantity'].var())\n",
    "print(\"value_price_adjustment:\", data['value_price_adjustment'].var())"
   ]
  },
  {
   "cell_type": "code",
   "execution_count": 231,
   "id": "9a774ba5-cb45-44f0-9bbc-381a84fd21ba",
   "metadata": {},
   "outputs": [
    {
     "name": "stdout",
     "output_type": "stream",
     "text": [
      "                        value_cost  value_quantity  value_price_adjustment\n",
      "value_cost                1.000000        0.328221                     NaN\n",
      "value_quantity            0.328221        1.000000                     NaN\n",
      "value_price_adjustment         NaN             NaN                     NaN\n"
     ]
    }
   ],
   "source": [
    "# Correlation matrix to check multicollinearity\n",
    "print(data[['value_cost', 'value_quantity', 'value_price_adjustment']].corr())"
   ]
  },
  {
   "cell_type": "code",
   "execution_count": 233,
   "id": "b675234a-2c5f-48b1-9ec8-f518af9510bb",
   "metadata": {},
   "outputs": [
    {
     "name": "stdout",
     "output_type": "stream",
     "text": [
      "Ridge regression score: 0.9420734693219215\n"
     ]
    }
   ],
   "source": [
    "# Define the independent and dependent variables\n",
    "X_ridge = data[['value_cost', 'value_quantity', 'value_price_adjustment']]\n",
    "y_ridge = data['value_sales']\n",
    "\n",
    "# Fit Ridge regression model\n",
    "ridge_model = Ridge(alpha=1.0)\n",
    "ridge_model.fit(X_ridge, y_ridge)\n",
    "print(\"Ridge regression score:\", ridge_model.score(X_ridge, y_ridge))"
   ]
  },
  {
   "cell_type": "code",
   "execution_count": 235,
   "id": "ff18c2b2-6c96-4507-ae23-f5e579249441",
   "metadata": {},
   "outputs": [
    {
     "name": "stdout",
     "output_type": "stream",
     "text": [
      "value_cost                0\n",
      "value_quantity            0\n",
      "value_price_adjustment    0\n",
      "dtype: int64\n",
      "         value_cost  value_quantity  value_price_adjustment\n",
      "count  1.988383e+06    1.988383e+06               1988383.0\n",
      "mean   1.197587e+02    1.513094e+01                     0.0\n",
      "std    2.173401e+02    2.178881e+01                     0.0\n",
      "min    0.000000e+00    0.000000e+00                     0.0\n",
      "25%    9.381000e+00    2.000000e+00                     0.0\n",
      "50%    3.107000e+01    6.000000e+00                     0.0\n",
      "75%    1.019106e+02    2.000000e+01                     0.0\n",
      "max    8.731800e+02    9.000000e+01                     0.0\n"
     ]
    }
   ],
   "source": [
    "# Check for infinity or extreme values in the independent variables\n",
    "print((data[['value_cost', 'value_quantity', 'value_price_adjustment']] == float('inf')).sum())\n",
    "print(data[['value_cost', 'value_quantity', 'value_price_adjustment']].describe())"
   ]
  },
  {
   "cell_type": "code",
   "execution_count": 237,
   "id": "fa15da85-9444-427e-a364-692403a3fc7b",
   "metadata": {},
   "outputs": [
    {
     "name": "stdout",
     "output_type": "stream",
     "text": [
      "                            OLS Regression Results                            \n",
      "==============================================================================\n",
      "Dep. Variable:            value_sales   R-squared:                       0.942\n",
      "Model:                            OLS   Adj. R-squared:                  0.942\n",
      "Method:                 Least Squares   F-statistic:                 1.617e+07\n",
      "Date:                Mon, 04 Nov 2024   Prob (F-statistic):               0.00\n",
      "Time:                        23:07:01   Log-Likelihood:            -1.1652e+07\n",
      "No. Observations:             1988383   AIC:                         2.330e+07\n",
      "Df Residuals:                 1988380   BIC:                         2.330e+07\n",
      "Df Model:                           2                                         \n",
      "Covariance Type:            nonrobust                                         \n",
      "==================================================================================\n",
      "                     coef    std err          t      P>|t|      [0.025      0.975]\n",
      "----------------------------------------------------------------------------------\n",
      "const             20.2403      0.076    265.922      0.000      20.091      20.389\n",
      "value_cost         1.5708      0.000   5357.974      0.000       1.570       1.571\n",
      "value_quantity     0.1199      0.003     41.016      0.000       0.114       0.126\n",
      "==============================================================================\n",
      "Omnibus:                   964613.046   Durbin-Watson:                   1.471\n",
      "Prob(Omnibus):                  0.000   Jarque-Bera (JB):        326166019.083\n",
      "Skew:                           1.092   Prob(JB):                         0.00\n",
      "Kurtosis:                      65.706   Cond. No.                         314.\n",
      "==============================================================================\n",
      "\n",
      "Notes:\n",
      "[1] Standard Errors assume that the covariance matrix of the errors is correctly specified.\n"
     ]
    }
   ],
   "source": [
    "# Define the dependent variable\n",
    "y = data['value_sales']\n",
    "\n",
    "# Define the simplified independent variables\n",
    "X_simple = data[['value_cost', 'value_quantity']]\n",
    "X_simple = sm.add_constant(X_simple)\n",
    "\n",
    "# Run the regression model with the simplified set of independent variables\n",
    "model_simple = sm.OLS(y, X_simple).fit()\n",
    "print(model_simple.summary())"
   ]
  },
  {
   "cell_type": "code",
   "execution_count": 239,
   "id": "3e1e8ae2-8d57-4cb6-a1d9-9b17162da734",
   "metadata": {},
   "outputs": [
    {
     "name": "stdout",
     "output_type": "stream",
     "text": [
      "                            OLS Regression Results                            \n",
      "==============================================================================\n",
      "Dep. Variable:            value_sales   R-squared:                       0.942\n",
      "Model:                            OLS   Adj. R-squared:                  0.942\n",
      "Method:                 Least Squares   F-statistic:                 1.617e+07\n",
      "Date:                Mon, 04 Nov 2024   Prob (F-statistic):               0.00\n",
      "Time:                        23:07:02   Log-Likelihood:            -1.1652e+07\n",
      "No. Observations:             1988383   AIC:                         2.330e+07\n",
      "Df Residuals:                 1988380   BIC:                         2.330e+07\n",
      "Df Model:                           2                                         \n",
      "Covariance Type:            nonrobust                                         \n",
      "==============================================================================\n",
      "                 coef    std err          t      P>|t|      [0.025      0.975]\n",
      "------------------------------------------------------------------------------\n",
      "const        210.1709      0.060   3491.940      0.000     210.053     210.289\n",
      "x1             1.5739      0.000   5686.561      0.000       1.573       1.574\n",
      "x2             0.0678      0.003     23.156      0.000       0.062       0.073\n",
      "==============================================================================\n",
      "Omnibus:                   964613.046   Durbin-Watson:                   1.471\n",
      "Prob(Omnibus):                  0.000   Jarque-Bera (JB):        326166019.084\n",
      "Skew:                           1.092   Prob(JB):                         0.00\n",
      "Kurtosis:                      65.706   Cond. No.                         217.\n",
      "==============================================================================\n",
      "\n",
      "Notes:\n",
      "[1] Standard Errors assume that the covariance matrix of the errors is correctly specified.\n"
     ]
    }
   ],
   "source": [
    "# Apply PCA on the independent variables\n",
    "X_pca = data[['value_cost', 'value_quantity', 'value_price_adjustment']]\n",
    "pca = PCA(n_components=2)  # Reduce to 2 components, or experiment with 1\n",
    "X_pca_transformed = pca.fit_transform(X_pca)\n",
    "\n",
    "# Run regression with PCA components\n",
    "X_pca_transformed = sm.add_constant(X_pca_transformed)\n",
    "model_pca = sm.OLS(y, X_pca_transformed).fit()\n",
    "print(model_pca.summary())"
   ]
  },
  {
   "cell_type": "code",
   "execution_count": 240,
   "id": "27af8af4-652c-473c-af4c-bbc28f283fef",
   "metadata": {},
   "outputs": [
    {
     "name": "stdout",
     "output_type": "stream",
     "text": [
      "Rank of independent variable matrix: 2\n"
     ]
    }
   ],
   "source": [
    "# Check rank of matrix to diagnose linear dependence\n",
    "rank = np.linalg.matrix_rank(data[['value_cost', 'value_quantity', 'value_price_adjustment']])\n",
    "print(\"Rank of independent variable matrix:\", rank)"
   ]
  },
  {
   "cell_type": "code",
   "execution_count": 243,
   "id": "7591f012-db0b-405a-8627-7f7edff8e385",
   "metadata": {},
   "outputs": [
    {
     "name": "stdout",
     "output_type": "stream",
     "text": [
      "Missing values: 0\n",
      "Unique values: 1\n",
      "Variance: 0.0\n"
     ]
    }
   ],
   "source": [
    "# Check for missing values, unique values, and variance in 'value_price_adjustment'\n",
    "print(\"Missing values:\", data['value_price_adjustment'].isna().sum())\n",
    "print(\"Unique values:\", data['value_price_adjustment'].nunique())\n",
    "print(\"Variance:\", data['value_price_adjustment'].var())"
   ]
  },
  {
   "cell_type": "code",
   "execution_count": 245,
   "id": "38d25b9b-6327-460c-8ad4-a672c8d6afc3",
   "metadata": {},
   "outputs": [
    {
     "name": "stdout",
     "output_type": "stream",
     "text": [
      "                            OLS Regression Results                            \n",
      "==============================================================================\n",
      "Dep. Variable:            value_sales   R-squared:                       0.942\n",
      "Model:                            OLS   Adj. R-squared:                  0.942\n",
      "Method:                 Least Squares   F-statistic:                 1.617e+07\n",
      "Date:                Mon, 04 Nov 2024   Prob (F-statistic):               0.00\n",
      "Time:                        23:07:10   Log-Likelihood:            -1.1652e+07\n",
      "No. Observations:             1988383   AIC:                         2.330e+07\n",
      "Df Residuals:                 1988380   BIC:                         2.330e+07\n",
      "Df Model:                           2                                         \n",
      "Covariance Type:            nonrobust                                         \n",
      "==================================================================================\n",
      "                     coef    std err          t      P>|t|      [0.025      0.975]\n",
      "----------------------------------------------------------------------------------\n",
      "const             20.2403      0.076    265.922      0.000      20.091      20.389\n",
      "value_cost         1.5708      0.000   5357.974      0.000       1.570       1.571\n",
      "value_quantity     0.1199      0.003     41.016      0.000       0.114       0.126\n",
      "==============================================================================\n",
      "Omnibus:                   964613.046   Durbin-Watson:                   1.471\n",
      "Prob(Omnibus):                  0.000   Jarque-Bera (JB):        326166019.083\n",
      "Skew:                           1.092   Prob(JB):                         0.00\n",
      "Kurtosis:                      65.706   Cond. No.                         314.\n",
      "==============================================================================\n",
      "\n",
      "Notes:\n",
      "[1] Standard Errors assume that the covariance matrix of the errors is correctly specified.\n"
     ]
    }
   ],
   "source": [
    "# Model without 'value_price_adjustment'\n",
    "X_reduced = data[['value_cost', 'value_quantity']]\n",
    "X_reduced = sm.add_constant(X_reduced)\n",
    "\n",
    "# Run the regression without 'value_price_adjustment'\n",
    "model_reduced = sm.OLS(y, X_reduced).fit()\n",
    "print(model_reduced.summary())"
   ]
  },
  {
   "cell_type": "markdown",
   "id": "5b4e8b37-f076-4028-9da6-d2d4ed092629",
   "metadata": {},
   "source": [
    "### Question 2: What Factors Determine Profit Margin?"
   ]
  },
  {
   "cell_type": "code",
   "execution_count": 248,
   "id": "1d8b692c-9731-48e9-b06d-93712772f11b",
   "metadata": {},
   "outputs": [
    {
     "name": "stdout",
     "output_type": "stream",
     "text": [
      "Variance of profit_margin: nan\n"
     ]
    }
   ],
   "source": [
    "# First, ensure that the 'value_sales' and 'value_cost' columns exist in the data\n",
    "if 'value_sales' in data.columns and 'value_cost' in data.columns:\n",
    "    # Calculate profit margin and add it as a new column\n",
    "    data['profit_margin'] = (data['value_sales'] - data['value_cost']) / data['value_sales']\n",
    "    \n",
    "    # Check the variance of profit_margin\n",
    "    print(\"Variance of profit_margin:\", data['profit_margin'].var())\n",
    "else:\n",
    "    print(\"The columns 'value_sales' and 'value_cost' are not found in the data.\")"
   ]
  },
  {
   "cell_type": "code",
   "execution_count": 250,
   "id": "bd8bbb3d-cd37-46dd-a61b-7554c6562449",
   "metadata": {},
   "outputs": [
    {
     "name": "stdout",
     "output_type": "stream",
     "text": [
      "NaN values in profit_margin: 771\n",
      "Infinite values in profit_margin: 21529\n"
     ]
    }
   ],
   "source": [
    "# Recalculate profit_margin to ensure correctness\n",
    "data['profit_margin'] = (data['value_sales'] - data['value_cost']) / data['value_sales']\n",
    "\n",
    "# Check for any NaN or infinity values in profit_margin\n",
    "print(\"NaN values in profit_margin:\", data['profit_margin'].isna().sum())\n",
    "print(\"Infinite values in profit_margin:\", np.isinf(data['profit_margin']).sum())"
   ]
  },
  {
   "cell_type": "code",
   "execution_count": 252,
   "id": "03beae86-79ca-46fa-b5b2-7c1b028f2621",
   "metadata": {},
   "outputs": [],
   "source": [
    "# Remove rows where value_sales is zero to avoid division by zero\n",
    "data = data[data['value_sales'] != 0]"
   ]
  },
  {
   "cell_type": "code",
   "execution_count": 253,
   "id": "4b13bb3f-98dd-4d04-a4d5-d1a5d166c6f3",
   "metadata": {},
   "outputs": [
    {
     "name": "stdout",
     "output_type": "stream",
     "text": [
      "                            OLS Regression Results                            \n",
      "==============================================================================\n",
      "Dep. Variable:          profit_margin   R-squared:                       0.000\n",
      "Model:                            OLS   Adj. R-squared:                  0.000\n",
      "Method:                 Least Squares   F-statistic:                     214.9\n",
      "Date:                Mon, 04 Nov 2024   Prob (F-statistic):          2.11e-139\n",
      "Time:                        23:07:12   Log-Likelihood:            -8.1087e+06\n",
      "No. Observations:             1966083   AIC:                         1.622e+07\n",
      "Df Residuals:                 1966079   BIC:                         1.622e+07\n",
      "Df Model:                           3                                         \n",
      "Covariance Type:            nonrobust                                         \n",
      "==================================================================================\n",
      "                     coef    std err          t      P>|t|      [0.025      0.975]\n",
      "----------------------------------------------------------------------------------\n",
      "const              0.4402      0.014     31.914      0.000       0.413       0.467\n",
      "value_sales        0.0032      0.000     24.192      0.000       0.003       0.003\n",
      "value_cost        -0.0055      0.000    -25.299      0.000      -0.006      -0.005\n",
      "value_quantity     0.0002      0.001      0.314      0.754      -0.001       0.001\n",
      "================================================================================\n",
      "Omnibus:                 11270171.428   Durbin-Watson:                     1.158\n",
      "Prob(Omnibus):                  0.000   Jarque-Bera (JB):   2887839133985318.500\n",
      "Skew:                        -355.322   Prob(JB):                           0.00\n",
      "Kurtosis:                  187756.519   Cond. No.                           621.\n",
      "================================================================================\n",
      "\n",
      "Notes:\n",
      "[1] Standard Errors assume that the covariance matrix of the errors is correctly specified.\n"
     ]
    }
   ],
   "source": [
    "# Define dependent and independent variables after cleaning\n",
    "y2 = data['profit_margin']\n",
    "X2 = data[['value_sales', 'value_cost', 'value_quantity']]\n",
    "X2 = sm.add_constant(X2)\n",
    "\n",
    "# Run the regression model\n",
    "model2 = sm.OLS(y2, X2).fit()\n",
    "print(model2.summary())"
   ]
  },
  {
   "cell_type": "code",
   "execution_count": 255,
   "id": "571b0f6c-13fa-4938-ad27-6195bdae9014",
   "metadata": {},
   "outputs": [
    {
     "name": "stdout",
     "output_type": "stream",
     "text": [
      "                            OLS Regression Results                            \n",
      "==============================================================================\n",
      "Dep. Variable:          profit_margin   R-squared:                       0.112\n",
      "Model:                            OLS   Adj. R-squared:                  0.111\n",
      "Method:                 Least Squares   F-statistic:                     418.9\n",
      "Date:                Mon, 04 Nov 2024   Prob (F-statistic):          2.51e-256\n",
      "Time:                        23:07:12   Log-Likelihood:                -8799.1\n",
      "No. Observations:               10000   AIC:                         1.761e+04\n",
      "Df Residuals:                    9996   BIC:                         1.764e+04\n",
      "Df Model:                           3                                         \n",
      "Covariance Type:            nonrobust                                         \n",
      "==================================================================================\n",
      "                     coef    std err          t      P>|t|      [0.025      0.975]\n",
      "----------------------------------------------------------------------------------\n",
      "const              0.5529      0.008     73.673      0.000       0.538       0.568\n",
      "value_sales        0.0023    7.4e-05     30.588      0.000       0.002       0.002\n",
      "value_cost        -0.0040      0.000    -33.005      0.000      -0.004      -0.004\n",
      "value_quantity    -0.0020      0.000     -6.812      0.000      -0.003      -0.001\n",
      "==============================================================================\n",
      "Omnibus:                    37073.545   Durbin-Watson:                   1.995\n",
      "Prob(Omnibus):                  0.000   Jarque-Bera (JB):      23054557428.754\n",
      "Skew:                         -80.242   Prob(JB):                         0.00\n",
      "Kurtosis:                    7439.745   Cond. No.                         616.\n",
      "==============================================================================\n",
      "\n",
      "Notes:\n",
      "[1] Standard Errors assume that the covariance matrix of the errors is correctly specified.\n"
     ]
    }
   ],
   "source": [
    "# Use a random subset of 10,000 rows for testing\n",
    "data_sample = data.sample(n=10000, random_state=42)\n",
    "\n",
    "# Define dependent and independent variables\n",
    "y_sample = data_sample['profit_margin']\n",
    "X_sample = data_sample[['value_sales', 'value_cost', 'value_quantity']]\n",
    "X_sample = sm.add_constant(X_sample)\n",
    "\n",
    "# Run the regression model on the subset\n",
    "model_sample = sm.OLS(y_sample, X_sample).fit()\n",
    "print(model_sample.summary())"
   ]
  },
  {
   "cell_type": "markdown",
   "id": "285fa768-420c-4cb0-8d5a-ae9b283d8d99",
   "metadata": {},
   "source": [
    "This analysis provides a strategic perspective to the management team by determining the main factors affecting sales value and profit margin. In the first question, it was determined that the factors affecting sales value the most were value_cost and value_quantity. Ridge and simplified OLS models show that these two variables can explain 94.2% of the sales value. This result clearly shows how strong an effect cost and quantity have on sales performance.\n",
    "\n",
    "In the second question, the effects on profit margin were more limited. While the value_sales and value_cost variables had a significant relationship with profit margin, the value_quantity variable had a very small effect. The low R-squared value of the model shows that the profit margin is also strongly affected by other external factors and can be explained limitedly by the existing variables. The analysis conducted on the sample in particular indicates that a more comprehensive data analysis may be required to explain profit margin.\n",
    "\n",
    "These findings can help the management team make strategic decisions on cost control and increasing sales quantity. However, investigating other external factors that affect profit margin will contribute to the creation of a more robust financial strategy."
   ]
  },
  {
   "cell_type": "markdown",
   "id": "0ac560d5-6630-4df1-b256-5342e0971083",
   "metadata": {},
   "source": [
    "<h3>Section 5: <u>Prediction Model</u></h3>"
   ]
  },
  {
   "cell_type": "code",
   "execution_count": 260,
   "id": "2c53d96c-10a4-4349-bec9-4f97514a13e6",
   "metadata": {},
   "outputs": [
    {
     "name": "stdout",
     "output_type": "stream",
     "text": [
      "Unique years in calendar_year: ['2012' 'calendar_year' '2013']\n"
     ]
    }
   ],
   "source": [
    "# Check the unique values in the 'calendar_year' column\n",
    "print(\"Unique years in calendar_year:\", data['calendar_year'].unique())"
   ]
  },
  {
   "cell_type": "code",
   "execution_count": 262,
   "id": "a516f44b-be63-459c-aa78-509396821627",
   "metadata": {},
   "outputs": [],
   "source": [
    "# Split data into training (2012) and testing (2013) sets\n",
    "train_data = data[data['calendar_year'] == 2012]\n",
    "test_data = data[data['calendar_year'] == 2013]\n",
    "\n",
    "# Define features and target\n",
    "features = ['value_cost', 'value_quantity']  # Update as needed\n",
    "target = 'value_sales'  # Target variable to predict\n",
    "\n",
    "# Separate features and target for both training and testing sets\n",
    "X_train = train_data[features]\n",
    "y_train = train_data[target]\n",
    "\n",
    "X_test = test_data[features]\n",
    "y_test = test_data[target]"
   ]
  },
  {
   "cell_type": "code",
   "execution_count": 264,
   "id": "d0aaf690-acba-4504-9edf-729c4ad898c0",
   "metadata": {},
   "outputs": [
    {
     "name": "stdout",
     "output_type": "stream",
     "text": [
      "Train data shape: (0, 47)\n",
      "Test data shape: (0, 47)\n",
      "Train data years: []\n",
      "Test data years: []\n"
     ]
    }
   ],
   "source": [
    "# Check if the dataset is divided by years.\"\n",
    "print(\"Train data shape:\", train_data.shape)\n",
    "print(\"Test data shape:\", test_data.shape)\n",
    "\n",
    "# Let's check the years in the dataset using sample rows.\n",
    "print(\"Train data years:\", train_data['calendar_year'].unique())\n",
    "print(\"Test data years:\", test_data['calendar_year'].unique())"
   ]
  },
  {
   "cell_type": "code",
   "execution_count": 266,
   "id": "422ff5d5-1fa5-45c3-89b7-845de60bd1df",
   "metadata": {},
   "outputs": [
    {
     "name": "stdout",
     "output_type": "stream",
     "text": [
      "Unique years in data: ['2012' 'calendar_year' '2013']\n",
      "Data columns: Index(['accounting_date', 'fiscal_year', 'fiscal_month', 'calendar_year',\n",
      "       'calendar_month', 'calendar_day', 'company_code', 'customer_code',\n",
      "       'customer_district_code', 'item_code', 'business_area_code',\n",
      "       'item_group_code', 'item_class_code', 'item_type', 'bonus_group_code',\n",
      "       'environment_group_code', 'technology_group_code',\n",
      "       'commission_group_code', 'reporting_classification', 'light_source',\n",
      "       'warehouse_code', 'abc_class_code', 'abc_class_volume',\n",
      "       'business_chain_l1_code', 'business_chain_l1_name',\n",
      "       'contact_method_code', 'salesperson_code', 'order_type_code',\n",
      "       'market_segment', 'value_sales', 'value_cost', 'value_quantity',\n",
      "       'value_price_adjustment', 'currency', 'item_source_class',\n",
      "       'invoice_number', 'line_number', 'invoice_date',\n",
      "       'customer_order_number', 'order_date', 'dss_update_time',\n",
      "       'value_sales_z', 'value_cost_z', 'value_quantity_z',\n",
      "       'value_price_adjustment_z', 'time_gap', 'profit_margin'],\n",
      "      dtype='object')\n"
     ]
    }
   ],
   "source": [
    "print(\"Unique years in data:\", data['calendar_year'].unique())\n",
    "print(\"Data columns:\", data.columns)"
   ]
  },
  {
   "cell_type": "code",
   "execution_count": 268,
   "id": "15a4f9fe-4d4f-4d70-b0d6-dc21833c2337",
   "metadata": {},
   "outputs": [
    {
     "name": "stdout",
     "output_type": "stream",
     "text": [
      "Train data shape: (1025476, 47)\n",
      "Test data shape: (940606, 47)\n"
     ]
    }
   ],
   "source": [
    "# Filter the data to only include rows with valid year values (2012 and 2013)\n",
    "data = data[data['calendar_year'].isin(['2012', '2013'])]\n",
    "\n",
    "# Try splitting the data again by year\n",
    "train_data = data[data['calendar_year'] == '2012']\n",
    "test_data = data[data['calendar_year'] == '2013']\n",
    "\n",
    "print(\"Train data shape:\", train_data.shape)\n",
    "print(\"Test data shape:\", test_data.shape)"
   ]
  },
  {
   "cell_type": "code",
   "execution_count": 269,
   "id": "b094d212-db5a-431a-8679-68dc0306dd26",
   "metadata": {},
   "outputs": [],
   "source": [
    "# Define features and target variable\n",
    "features = ['value_cost', 'value_quantity']  \n",
    "target = 'value_sales'\n",
    "\n",
    "X_train = train_data[features]\n",
    "y_train = train_data[target]\n",
    "X_test = test_data[features]\n",
    "y_test = test_data[target]"
   ]
  },
  {
   "cell_type": "code",
   "execution_count": 270,
   "id": "9e4f48b4-72d2-4471-b623-b83a60afe900",
   "metadata": {},
   "outputs": [
    {
     "name": "stdout",
     "output_type": "stream",
     "text": [
      "Ridge Regression:\n",
      "Mean Squared Error (MSE): 6591.117826520843\n",
      "R-squared (R²): 0.9477164264471735\n"
     ]
    }
   ],
   "source": [
    "# Initialize Ridge and Lasso models\n",
    "ridge = Ridge(alpha=1.0)\n",
    "lasso = Lasso(alpha=0.1)\n",
    "\n",
    "# Train Ridge model\n",
    "ridge.fit(X_train, y_train)\n",
    "ridge_predictions = ridge.predict(X_test)\n",
    "ridge_mse = mean_squared_error(y_test, ridge_predictions)\n",
    "ridge_r2 = r2_score(y_test, ridge_predictions)\n",
    "print(\"Ridge Regression:\")\n",
    "print(f\"Mean Squared Error (MSE): {ridge_mse}\")\n",
    "print(f\"R-squared (R²): {ridge_r2}\")"
   ]
  },
  {
   "cell_type": "code",
   "execution_count": 274,
   "id": "da615bff-5d3a-4f6f-bfbd-fdf850cfa206",
   "metadata": {},
   "outputs": [
    {
     "name": "stdout",
     "output_type": "stream",
     "text": [
      "\n",
      "Lasso Regression:\n",
      "Mean Squared Error (MSE): 6591.100802072492\n",
      "R-squared (R²): 0.9477165614923997\n"
     ]
    }
   ],
   "source": [
    "# Train Lasso model\n",
    "lasso.fit(X_train, y_train)\n",
    "lasso_predictions = lasso.predict(X_test)\n",
    "lasso_mse = mean_squared_error(y_test, lasso_predictions)\n",
    "lasso_r2 = r2_score(y_test, lasso_predictions)\n",
    "print(\"\\nLasso Regression:\")\n",
    "print(f\"Mean Squared Error (MSE): {lasso_mse}\")\n",
    "print(f\"R-squared (R²): {lasso_r2}\")"
   ]
  },
  {
   "cell_type": "markdown",
   "id": "fa4e2fb1-fa18-4b53-9e9a-d4912746aadb",
   "metadata": {},
   "source": [
    "Our team has been assigned to develop a prediction model for estimating the sales price in 2014, and hence we have taken deep interest in analyzing historical data from years 2012 and 2013. This was to derive a reliable model that could predict the sales value of the future with greater precision by observing the trends and key influential factors.\n",
    "\n",
    "We have divided our data into two parts for this purpose: training and testing, taking 2012 data for training and 2013 data for testing to enable us to evaluate the performance of our model on a separate set. We used 'value_cost' and 'value_quantity' as some of the important predictors because both of these variables can potentially impact sales prices very significantly. Using Ridge and Lasso regression, we evaluated the model based on Mean Squared Error (MSE) and R-squared (R²) values.\n",
    "\n",
    "Indeed, both models were strong in terms of predictive accuracies: The Ridge and Lasso regressions provided very close results, indicating a very high R-squared result of approximately 0.9477 and very low MSE of about 6591. Such proximity to one another suggests the reliability of the given approach and points to the fact that the selected variables 'cost' and 'quantity' do a very good job of predicting 'sales' values.\n",
    "\n",
    "In other words, based on the historical trend, this model provides a firm ground in predicting the sales prices of 2014. If better accuracy is to be obtained, the study of more features or more advanced algorithms, such as Random Forest and Gradient Boosting, are what would be further development for work to optimize the accuracy."
   ]
  },
  {
   "cell_type": "markdown",
   "id": "f14b44ca-b121-4470-bc17-35fcc765a050",
   "metadata": {},
   "source": [
    "<h3>Section 6: <u>Higher Likelihood of Losing Customers</u></h3>"
   ]
  },
  {
   "cell_type": "code",
   "execution_count": 278,
   "id": "10af30df-0f6b-4a5b-8278-99d71d40fe0e",
   "metadata": {},
   "outputs": [],
   "source": [
    "# Step 1: Define Proxy for Churn\n",
    "# Proxy based on 'value_sales' threshold or 'time_gap' if present in the data\n",
    "# Assuming churn if 'value_sales' is below a certain threshold, e.g., less than a specified amount\n",
    "churn_threshold = 500  \n",
    "\n",
    "if 'value_sales' in data.columns:\n",
    "    data['churn'] = (data['value_sales'] < churn_threshold).astype(int)\n",
    "elif 'time_gap' in data.columns:\n",
    "    # Define churn if time gap between transactions is unusually high (e.g., over 180 days)\n",
    "    data['churn'] = (data['time_gap'] > 180).astype(int)\n",
    "else:\n",
    "    raise ValueError(\"Dataset does not contain a suitable column to define churn.\")"
   ]
  },
  {
   "cell_type": "code",
   "execution_count": 280,
   "id": "c1582550-795c-404a-a12d-d72075a0ab1e",
   "metadata": {},
   "outputs": [
    {
     "name": "stdout",
     "output_type": "stream",
     "text": [
      "Churn distribution:\n",
      " churn\n",
      "1    1726989\n",
      "0     239093\n",
      "Name: count, dtype: int64\n"
     ]
    }
   ],
   "source": [
    "# Step 2: Check churn distribution\n",
    "print(\"Churn distribution:\\n\", data['churn'].value_counts())"
   ]
  },
  {
   "cell_type": "code",
   "execution_count": 282,
   "id": "1d35df90-25aa-4ccb-b4d2-8ea69d2a4312",
   "metadata": {},
   "outputs": [],
   "source": [
    "# Step 3: Select features and prepare data\n",
    "features = ['value_cost', 'value_quantity', 'time_gap']  # Adjust features based on availability\n",
    "X = data[features]\n",
    "y = data['churn']\n",
    "\n",
    "# Split the data into training and testing sets\n",
    "X_train, X_test, y_train, y_test = train_test_split(X, y, test_size=0.2, random_state=42)"
   ]
  },
  {
   "cell_type": "code",
   "execution_count": 284,
   "id": "12506860-413e-463e-b244-adb9090395f9",
   "metadata": {},
   "outputs": [
    {
     "data": {
      "text/html": [
       "<style>#sk-container-id-1 {\n",
       "  /* Definition of color scheme common for light and dark mode */\n",
       "  --sklearn-color-text: black;\n",
       "  --sklearn-color-line: gray;\n",
       "  /* Definition of color scheme for unfitted estimators */\n",
       "  --sklearn-color-unfitted-level-0: #fff5e6;\n",
       "  --sklearn-color-unfitted-level-1: #f6e4d2;\n",
       "  --sklearn-color-unfitted-level-2: #ffe0b3;\n",
       "  --sklearn-color-unfitted-level-3: chocolate;\n",
       "  /* Definition of color scheme for fitted estimators */\n",
       "  --sklearn-color-fitted-level-0: #f0f8ff;\n",
       "  --sklearn-color-fitted-level-1: #d4ebff;\n",
       "  --sklearn-color-fitted-level-2: #b3dbfd;\n",
       "  --sklearn-color-fitted-level-3: cornflowerblue;\n",
       "\n",
       "  /* Specific color for light theme */\n",
       "  --sklearn-color-text-on-default-background: var(--sg-text-color, var(--theme-code-foreground, var(--jp-content-font-color1, black)));\n",
       "  --sklearn-color-background: var(--sg-background-color, var(--theme-background, var(--jp-layout-color0, white)));\n",
       "  --sklearn-color-border-box: var(--sg-text-color, var(--theme-code-foreground, var(--jp-content-font-color1, black)));\n",
       "  --sklearn-color-icon: #696969;\n",
       "\n",
       "  @media (prefers-color-scheme: dark) {\n",
       "    /* Redefinition of color scheme for dark theme */\n",
       "    --sklearn-color-text-on-default-background: var(--sg-text-color, var(--theme-code-foreground, var(--jp-content-font-color1, white)));\n",
       "    --sklearn-color-background: var(--sg-background-color, var(--theme-background, var(--jp-layout-color0, #111)));\n",
       "    --sklearn-color-border-box: var(--sg-text-color, var(--theme-code-foreground, var(--jp-content-font-color1, white)));\n",
       "    --sklearn-color-icon: #878787;\n",
       "  }\n",
       "}\n",
       "\n",
       "#sk-container-id-1 {\n",
       "  color: var(--sklearn-color-text);\n",
       "}\n",
       "\n",
       "#sk-container-id-1 pre {\n",
       "  padding: 0;\n",
       "}\n",
       "\n",
       "#sk-container-id-1 input.sk-hidden--visually {\n",
       "  border: 0;\n",
       "  clip: rect(1px 1px 1px 1px);\n",
       "  clip: rect(1px, 1px, 1px, 1px);\n",
       "  height: 1px;\n",
       "  margin: -1px;\n",
       "  overflow: hidden;\n",
       "  padding: 0;\n",
       "  position: absolute;\n",
       "  width: 1px;\n",
       "}\n",
       "\n",
       "#sk-container-id-1 div.sk-dashed-wrapped {\n",
       "  border: 1px dashed var(--sklearn-color-line);\n",
       "  margin: 0 0.4em 0.5em 0.4em;\n",
       "  box-sizing: border-box;\n",
       "  padding-bottom: 0.4em;\n",
       "  background-color: var(--sklearn-color-background);\n",
       "}\n",
       "\n",
       "#sk-container-id-1 div.sk-container {\n",
       "  /* jupyter's `normalize.less` sets `[hidden] { display: none; }`\n",
       "     but bootstrap.min.css set `[hidden] { display: none !important; }`\n",
       "     so we also need the `!important` here to be able to override the\n",
       "     default hidden behavior on the sphinx rendered scikit-learn.org.\n",
       "     See: https://github.com/scikit-learn/scikit-learn/issues/21755 */\n",
       "  display: inline-block !important;\n",
       "  position: relative;\n",
       "}\n",
       "\n",
       "#sk-container-id-1 div.sk-text-repr-fallback {\n",
       "  display: none;\n",
       "}\n",
       "\n",
       "div.sk-parallel-item,\n",
       "div.sk-serial,\n",
       "div.sk-item {\n",
       "  /* draw centered vertical line to link estimators */\n",
       "  background-image: linear-gradient(var(--sklearn-color-text-on-default-background), var(--sklearn-color-text-on-default-background));\n",
       "  background-size: 2px 100%;\n",
       "  background-repeat: no-repeat;\n",
       "  background-position: center center;\n",
       "}\n",
       "\n",
       "/* Parallel-specific style estimator block */\n",
       "\n",
       "#sk-container-id-1 div.sk-parallel-item::after {\n",
       "  content: \"\";\n",
       "  width: 100%;\n",
       "  border-bottom: 2px solid var(--sklearn-color-text-on-default-background);\n",
       "  flex-grow: 1;\n",
       "}\n",
       "\n",
       "#sk-container-id-1 div.sk-parallel {\n",
       "  display: flex;\n",
       "  align-items: stretch;\n",
       "  justify-content: center;\n",
       "  background-color: var(--sklearn-color-background);\n",
       "  position: relative;\n",
       "}\n",
       "\n",
       "#sk-container-id-1 div.sk-parallel-item {\n",
       "  display: flex;\n",
       "  flex-direction: column;\n",
       "}\n",
       "\n",
       "#sk-container-id-1 div.sk-parallel-item:first-child::after {\n",
       "  align-self: flex-end;\n",
       "  width: 50%;\n",
       "}\n",
       "\n",
       "#sk-container-id-1 div.sk-parallel-item:last-child::after {\n",
       "  align-self: flex-start;\n",
       "  width: 50%;\n",
       "}\n",
       "\n",
       "#sk-container-id-1 div.sk-parallel-item:only-child::after {\n",
       "  width: 0;\n",
       "}\n",
       "\n",
       "/* Serial-specific style estimator block */\n",
       "\n",
       "#sk-container-id-1 div.sk-serial {\n",
       "  display: flex;\n",
       "  flex-direction: column;\n",
       "  align-items: center;\n",
       "  background-color: var(--sklearn-color-background);\n",
       "  padding-right: 1em;\n",
       "  padding-left: 1em;\n",
       "}\n",
       "\n",
       "\n",
       "/* Toggleable style: style used for estimator/Pipeline/ColumnTransformer box that is\n",
       "clickable and can be expanded/collapsed.\n",
       "- Pipeline and ColumnTransformer use this feature and define the default style\n",
       "- Estimators will overwrite some part of the style using the `sk-estimator` class\n",
       "*/\n",
       "\n",
       "/* Pipeline and ColumnTransformer style (default) */\n",
       "\n",
       "#sk-container-id-1 div.sk-toggleable {\n",
       "  /* Default theme specific background. It is overwritten whether we have a\n",
       "  specific estimator or a Pipeline/ColumnTransformer */\n",
       "  background-color: var(--sklearn-color-background);\n",
       "}\n",
       "\n",
       "/* Toggleable label */\n",
       "#sk-container-id-1 label.sk-toggleable__label {\n",
       "  cursor: pointer;\n",
       "  display: block;\n",
       "  width: 100%;\n",
       "  margin-bottom: 0;\n",
       "  padding: 0.5em;\n",
       "  box-sizing: border-box;\n",
       "  text-align: center;\n",
       "}\n",
       "\n",
       "#sk-container-id-1 label.sk-toggleable__label-arrow:before {\n",
       "  /* Arrow on the left of the label */\n",
       "  content: \"▸\";\n",
       "  float: left;\n",
       "  margin-right: 0.25em;\n",
       "  color: var(--sklearn-color-icon);\n",
       "}\n",
       "\n",
       "#sk-container-id-1 label.sk-toggleable__label-arrow:hover:before {\n",
       "  color: var(--sklearn-color-text);\n",
       "}\n",
       "\n",
       "/* Toggleable content - dropdown */\n",
       "\n",
       "#sk-container-id-1 div.sk-toggleable__content {\n",
       "  max-height: 0;\n",
       "  max-width: 0;\n",
       "  overflow: hidden;\n",
       "  text-align: left;\n",
       "  /* unfitted */\n",
       "  background-color: var(--sklearn-color-unfitted-level-0);\n",
       "}\n",
       "\n",
       "#sk-container-id-1 div.sk-toggleable__content.fitted {\n",
       "  /* fitted */\n",
       "  background-color: var(--sklearn-color-fitted-level-0);\n",
       "}\n",
       "\n",
       "#sk-container-id-1 div.sk-toggleable__content pre {\n",
       "  margin: 0.2em;\n",
       "  border-radius: 0.25em;\n",
       "  color: var(--sklearn-color-text);\n",
       "  /* unfitted */\n",
       "  background-color: var(--sklearn-color-unfitted-level-0);\n",
       "}\n",
       "\n",
       "#sk-container-id-1 div.sk-toggleable__content.fitted pre {\n",
       "  /* unfitted */\n",
       "  background-color: var(--sklearn-color-fitted-level-0);\n",
       "}\n",
       "\n",
       "#sk-container-id-1 input.sk-toggleable__control:checked~div.sk-toggleable__content {\n",
       "  /* Expand drop-down */\n",
       "  max-height: 200px;\n",
       "  max-width: 100%;\n",
       "  overflow: auto;\n",
       "}\n",
       "\n",
       "#sk-container-id-1 input.sk-toggleable__control:checked~label.sk-toggleable__label-arrow:before {\n",
       "  content: \"▾\";\n",
       "}\n",
       "\n",
       "/* Pipeline/ColumnTransformer-specific style */\n",
       "\n",
       "#sk-container-id-1 div.sk-label input.sk-toggleable__control:checked~label.sk-toggleable__label {\n",
       "  color: var(--sklearn-color-text);\n",
       "  background-color: var(--sklearn-color-unfitted-level-2);\n",
       "}\n",
       "\n",
       "#sk-container-id-1 div.sk-label.fitted input.sk-toggleable__control:checked~label.sk-toggleable__label {\n",
       "  background-color: var(--sklearn-color-fitted-level-2);\n",
       "}\n",
       "\n",
       "/* Estimator-specific style */\n",
       "\n",
       "/* Colorize estimator box */\n",
       "#sk-container-id-1 div.sk-estimator input.sk-toggleable__control:checked~label.sk-toggleable__label {\n",
       "  /* unfitted */\n",
       "  background-color: var(--sklearn-color-unfitted-level-2);\n",
       "}\n",
       "\n",
       "#sk-container-id-1 div.sk-estimator.fitted input.sk-toggleable__control:checked~label.sk-toggleable__label {\n",
       "  /* fitted */\n",
       "  background-color: var(--sklearn-color-fitted-level-2);\n",
       "}\n",
       "\n",
       "#sk-container-id-1 div.sk-label label.sk-toggleable__label,\n",
       "#sk-container-id-1 div.sk-label label {\n",
       "  /* The background is the default theme color */\n",
       "  color: var(--sklearn-color-text-on-default-background);\n",
       "}\n",
       "\n",
       "/* On hover, darken the color of the background */\n",
       "#sk-container-id-1 div.sk-label:hover label.sk-toggleable__label {\n",
       "  color: var(--sklearn-color-text);\n",
       "  background-color: var(--sklearn-color-unfitted-level-2);\n",
       "}\n",
       "\n",
       "/* Label box, darken color on hover, fitted */\n",
       "#sk-container-id-1 div.sk-label.fitted:hover label.sk-toggleable__label.fitted {\n",
       "  color: var(--sklearn-color-text);\n",
       "  background-color: var(--sklearn-color-fitted-level-2);\n",
       "}\n",
       "\n",
       "/* Estimator label */\n",
       "\n",
       "#sk-container-id-1 div.sk-label label {\n",
       "  font-family: monospace;\n",
       "  font-weight: bold;\n",
       "  display: inline-block;\n",
       "  line-height: 1.2em;\n",
       "}\n",
       "\n",
       "#sk-container-id-1 div.sk-label-container {\n",
       "  text-align: center;\n",
       "}\n",
       "\n",
       "/* Estimator-specific */\n",
       "#sk-container-id-1 div.sk-estimator {\n",
       "  font-family: monospace;\n",
       "  border: 1px dotted var(--sklearn-color-border-box);\n",
       "  border-radius: 0.25em;\n",
       "  box-sizing: border-box;\n",
       "  margin-bottom: 0.5em;\n",
       "  /* unfitted */\n",
       "  background-color: var(--sklearn-color-unfitted-level-0);\n",
       "}\n",
       "\n",
       "#sk-container-id-1 div.sk-estimator.fitted {\n",
       "  /* fitted */\n",
       "  background-color: var(--sklearn-color-fitted-level-0);\n",
       "}\n",
       "\n",
       "/* on hover */\n",
       "#sk-container-id-1 div.sk-estimator:hover {\n",
       "  /* unfitted */\n",
       "  background-color: var(--sklearn-color-unfitted-level-2);\n",
       "}\n",
       "\n",
       "#sk-container-id-1 div.sk-estimator.fitted:hover {\n",
       "  /* fitted */\n",
       "  background-color: var(--sklearn-color-fitted-level-2);\n",
       "}\n",
       "\n",
       "/* Specification for estimator info (e.g. \"i\" and \"?\") */\n",
       "\n",
       "/* Common style for \"i\" and \"?\" */\n",
       "\n",
       ".sk-estimator-doc-link,\n",
       "a:link.sk-estimator-doc-link,\n",
       "a:visited.sk-estimator-doc-link {\n",
       "  float: right;\n",
       "  font-size: smaller;\n",
       "  line-height: 1em;\n",
       "  font-family: monospace;\n",
       "  background-color: var(--sklearn-color-background);\n",
       "  border-radius: 1em;\n",
       "  height: 1em;\n",
       "  width: 1em;\n",
       "  text-decoration: none !important;\n",
       "  margin-left: 1ex;\n",
       "  /* unfitted */\n",
       "  border: var(--sklearn-color-unfitted-level-1) 1pt solid;\n",
       "  color: var(--sklearn-color-unfitted-level-1);\n",
       "}\n",
       "\n",
       ".sk-estimator-doc-link.fitted,\n",
       "a:link.sk-estimator-doc-link.fitted,\n",
       "a:visited.sk-estimator-doc-link.fitted {\n",
       "  /* fitted */\n",
       "  border: var(--sklearn-color-fitted-level-1) 1pt solid;\n",
       "  color: var(--sklearn-color-fitted-level-1);\n",
       "}\n",
       "\n",
       "/* On hover */\n",
       "div.sk-estimator:hover .sk-estimator-doc-link:hover,\n",
       ".sk-estimator-doc-link:hover,\n",
       "div.sk-label-container:hover .sk-estimator-doc-link:hover,\n",
       ".sk-estimator-doc-link:hover {\n",
       "  /* unfitted */\n",
       "  background-color: var(--sklearn-color-unfitted-level-3);\n",
       "  color: var(--sklearn-color-background);\n",
       "  text-decoration: none;\n",
       "}\n",
       "\n",
       "div.sk-estimator.fitted:hover .sk-estimator-doc-link.fitted:hover,\n",
       ".sk-estimator-doc-link.fitted:hover,\n",
       "div.sk-label-container:hover .sk-estimator-doc-link.fitted:hover,\n",
       ".sk-estimator-doc-link.fitted:hover {\n",
       "  /* fitted */\n",
       "  background-color: var(--sklearn-color-fitted-level-3);\n",
       "  color: var(--sklearn-color-background);\n",
       "  text-decoration: none;\n",
       "}\n",
       "\n",
       "/* Span, style for the box shown on hovering the info icon */\n",
       ".sk-estimator-doc-link span {\n",
       "  display: none;\n",
       "  z-index: 9999;\n",
       "  position: relative;\n",
       "  font-weight: normal;\n",
       "  right: .2ex;\n",
       "  padding: .5ex;\n",
       "  margin: .5ex;\n",
       "  width: min-content;\n",
       "  min-width: 20ex;\n",
       "  max-width: 50ex;\n",
       "  color: var(--sklearn-color-text);\n",
       "  box-shadow: 2pt 2pt 4pt #999;\n",
       "  /* unfitted */\n",
       "  background: var(--sklearn-color-unfitted-level-0);\n",
       "  border: .5pt solid var(--sklearn-color-unfitted-level-3);\n",
       "}\n",
       "\n",
       ".sk-estimator-doc-link.fitted span {\n",
       "  /* fitted */\n",
       "  background: var(--sklearn-color-fitted-level-0);\n",
       "  border: var(--sklearn-color-fitted-level-3);\n",
       "}\n",
       "\n",
       ".sk-estimator-doc-link:hover span {\n",
       "  display: block;\n",
       "}\n",
       "\n",
       "/* \"?\"-specific style due to the `<a>` HTML tag */\n",
       "\n",
       "#sk-container-id-1 a.estimator_doc_link {\n",
       "  float: right;\n",
       "  font-size: 1rem;\n",
       "  line-height: 1em;\n",
       "  font-family: monospace;\n",
       "  background-color: var(--sklearn-color-background);\n",
       "  border-radius: 1rem;\n",
       "  height: 1rem;\n",
       "  width: 1rem;\n",
       "  text-decoration: none;\n",
       "  /* unfitted */\n",
       "  color: var(--sklearn-color-unfitted-level-1);\n",
       "  border: var(--sklearn-color-unfitted-level-1) 1pt solid;\n",
       "}\n",
       "\n",
       "#sk-container-id-1 a.estimator_doc_link.fitted {\n",
       "  /* fitted */\n",
       "  border: var(--sklearn-color-fitted-level-1) 1pt solid;\n",
       "  color: var(--sklearn-color-fitted-level-1);\n",
       "}\n",
       "\n",
       "/* On hover */\n",
       "#sk-container-id-1 a.estimator_doc_link:hover {\n",
       "  /* unfitted */\n",
       "  background-color: var(--sklearn-color-unfitted-level-3);\n",
       "  color: var(--sklearn-color-background);\n",
       "  text-decoration: none;\n",
       "}\n",
       "\n",
       "#sk-container-id-1 a.estimator_doc_link.fitted:hover {\n",
       "  /* fitted */\n",
       "  background-color: var(--sklearn-color-fitted-level-3);\n",
       "}\n",
       "</style><div id=\"sk-container-id-1\" class=\"sk-top-container\"><div class=\"sk-text-repr-fallback\"><pre>RandomForestClassifier(random_state=42)</pre><b>In a Jupyter environment, please rerun this cell to show the HTML representation or trust the notebook. <br />On GitHub, the HTML representation is unable to render, please try loading this page with nbviewer.org.</b></div><div class=\"sk-container\" hidden><div class=\"sk-item\"><div class=\"sk-estimator fitted sk-toggleable\"><input class=\"sk-toggleable__control sk-hidden--visually\" id=\"sk-estimator-id-1\" type=\"checkbox\" checked><label for=\"sk-estimator-id-1\" class=\"sk-toggleable__label fitted sk-toggleable__label-arrow fitted\">&nbsp;&nbsp;RandomForestClassifier<a class=\"sk-estimator-doc-link fitted\" rel=\"noreferrer\" target=\"_blank\" href=\"https://scikit-learn.org/1.5/modules/generated/sklearn.ensemble.RandomForestClassifier.html\">?<span>Documentation for RandomForestClassifier</span></a><span class=\"sk-estimator-doc-link fitted\">i<span>Fitted</span></span></label><div class=\"sk-toggleable__content fitted\"><pre>RandomForestClassifier(random_state=42)</pre></div> </div></div></div></div>"
      ],
      "text/plain": [
       "RandomForestClassifier(random_state=42)"
      ]
     },
     "execution_count": 284,
     "metadata": {},
     "output_type": "execute_result"
    }
   ],
   "source": [
    "# Step 4: Train a Random Forest Classifier\n",
    "rf_model = RandomForestClassifier(random_state=42)\n",
    "rf_model.fit(X_train, y_train)"
   ]
  },
  {
   "cell_type": "code",
   "execution_count": 285,
   "id": "09cd74f5-43be-4a2e-85b5-9c810573a2c0",
   "metadata": {},
   "outputs": [
    {
     "name": "stdout",
     "output_type": "stream",
     "text": [
      "Random Forest Classification Report:\n",
      "              precision    recall  f1-score   support\n",
      "\n",
      "           0       0.94      0.93      0.93     47887\n",
      "           1       0.99      0.99      0.99    345330\n",
      "\n",
      "    accuracy                           0.98    393217\n",
      "   macro avg       0.96      0.96      0.96    393217\n",
      "weighted avg       0.98      0.98      0.98    393217\n",
      "\n"
     ]
    }
   ],
   "source": [
    "from sklearn.metrics import classification_report \n",
    "\n",
    "# Step 5: Evaluate model performance\n",
    "y_pred_rf = rf_model.predict(X_test)\n",
    "print(\"Random Forest Classification Report:\")\n",
    "print(classification_report(y_test, y_pred_rf))"
   ]
  },
  {
   "cell_type": "code",
   "execution_count": 286,
   "id": "3ce9a9bd-8e7f-4f66-80a3-618757226b0a",
   "metadata": {},
   "outputs": [
    {
     "name": "stdout",
     "output_type": "stream",
     "text": [
      "\n",
      "Feature Importances from Random Forest:\n",
      "value_cost        0.917472\n",
      "value_quantity    0.053587\n",
      "time_gap          0.028941\n",
      "dtype: float64\n"
     ]
    }
   ],
   "source": [
    "# Step 6: Feature Importance Analysis\n",
    "feature_importances = pd.Series(rf_model.feature_importances_, index=X.columns)\n",
    "print(\"\\nFeature Importances from Random Forest:\")\n",
    "print(feature_importances.sort_values(ascending=False))"
   ]
  },
  {
   "cell_type": "code",
   "execution_count": 287,
   "id": "d48693c4-78c2-4682-8ab5-e65e65ae0cfd",
   "metadata": {},
   "outputs": [
    {
     "data": {
      "image/png": "[encoded data removed]",
      "text/plain": [
       "<Figure size 640x480 with 1 Axes>"
      ]
     },
     "metadata": {},
     "output_type": "display_data"
    }
   ],
   "source": [
    "# Plot feature importances for visualization\n",
    "feature_importances.sort_values(ascending=False).plot(kind='bar', title='Feature Importances')\n",
    "plt.show()"
   ]
  },
  {
   "cell_type": "markdown",
   "id": "d4bdbc3f-3cce-4ee9-b84f-c041601f4216",
   "metadata": {},
   "source": [
    "The section outlined the characteristics that would increase the probability of a person churning. By the significance level analysis done by the Random Forest model, the most important feature in doing the churn prediction is that of value_cost. The implications are that when the amount spent is low or below a certain threshold, there's an increased likelihood of churning. The value_quantity and time_gap are not as influential on the variable Churn, yet they contributed to the explanatory power of this model. Value_quantity indicates how many products customers purchased, while time gap indicates how long it has been since the last purchase date. Both give an important clue for understanding customer behavior.\n",
    "\n",
    "Based on the obtained results, it could be suggested to focus on customers having low value_cost values ​​and closely follow customers where time_gap values ​​are growing in order to reduce the customer churn. In case of need, other models - for example, logistic regression to increase interpretability - or hyperparameter optimization in the Random Forest model can be used in order to increase the accuracy of the results of the performed analysis.\n",
    "\n",
    "It identifies, with success, the main factors that impact customer churn in an clear manner of information that might be of help for the company in the elaboration of strategies which reduce the churn rate."
   ]
  }
 ],
 "metadata": {
  "kernelspec": {
   "display_name": "Python 3 (ipykernel)",
   "language": "python",
   "name": "python3"
  },
  "language_info": {
   "codemirror_mode": {
    "name": "ipython",
    "version": 3
   },
   "file_extension": ".py",
   "mimetype": "text/x-python",
   "name": "python",
   "nbconvert_exporter": "python",
   "pygments_lexer": "ipython3",
   "version": "3.12.7"
  }
 },
 "nbformat": 4,
 "nbformat_minor": 5
}
